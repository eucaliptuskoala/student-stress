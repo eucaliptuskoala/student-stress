{
 "cells": [
  {
   "cell_type": "markdown",
   "id": "8c6b1819",
   "metadata": {},
   "source": [
    "# Student Stress Classification"
   ]
  },
  {
   "cell_type": "markdown",
   "id": "344eb5e7",
   "metadata": {},
   "source": [
    "- **Iteration №: 1**\n",
    "- **Student: Ivan Bodnar**"
   ]
  },
  {
   "cell_type": "markdown",
   "id": "757a5bd7",
   "metadata": {},
   "source": [
    "During this iteration I have used two datasets:\n",
    "- an AI generated dataset\n",
    "- a dataset collected from a survey posted for Fontys University of Applied Science students. The survey was made  the iteration 0"
   ]
  },
  {
   "cell_type": "code",
   "execution_count": 211,
   "id": "48ca1a05",
   "metadata": {},
   "outputs": [],
   "source": [
    "# imports\n",
    "import pandas as pd\n",
    "import seaborn as sns\n",
    "import numpy as np\n",
    "import matplotlib.pyplot as plt\n",
    "from sklearn.model_selection import train_test_split\n",
    "from sklearn.tree import DecisionTreeClassifier\n",
    "from sklearn.metrics import classification_report\n",
    "import missingno as msno\n",
    "from pandas.plotting import parallel_coordinates\n",
    "from sklearn.ensemble import RandomForestClassifier"
   ]
  },
  {
   "cell_type": "markdown",
   "id": "d314b6c3",
   "metadata": {},
   "source": [
    "## Synthetic dataset"
   ]
  },
  {
   "cell_type": "markdown",
   "id": "27475dd2",
   "metadata": {},
   "source": [
    "In a feedback from one of my teachers I have got a contact of a person who could give me some insights on stress as she has been conducting a stress related project. Apparently she is not an expert in the field and was not conducting any project at the time, but she did give me some advice on how to make a questionnaire and shared some parts of a book about stress \"Busy Busy Busy\" | Carry Petri, Jolanda Bouman. This book has been containing a \"stress resistance test\", where some of the questions seemed useful for my questionnaire so I have decided to make a synthetic dataset to work and experiment on, while I am arranging a meeting with universities psychologist."
   ]
  },
  {
   "cell_type": "markdown",
   "id": "8a939677",
   "metadata": {},
   "source": [
    "### Data Provisioning"
   ]
  },
  {
   "cell_type": "code",
   "execution_count": 212,
   "id": "b49a599c",
   "metadata": {},
   "outputs": [
    {
     "data": {
      "application/vnd.microsoft.datawrangler.viewer.v0+json": {
       "columns": [
        {
         "name": "index",
         "rawType": "int64",
         "type": "integer"
        },
        {
         "name": "ID",
         "rawType": "int64",
         "type": "integer"
        },
        {
         "name": "achievement_satisfaction",
         "rawType": "object",
         "type": "string"
        },
        {
         "name": "irritation",
         "rawType": "object",
         "type": "string"
        },
        {
         "name": "hurry_to_finalize",
         "rawType": "object",
         "type": "string"
        },
        {
         "name": "self_doubt",
         "rawType": "object",
         "type": "string"
        },
        {
         "name": "rumination",
         "rawType": "object",
         "type": "string"
        },
        {
         "name": "emotional_repression",
         "rawType": "object",
         "type": "string"
        },
        {
         "name": "pessimism",
         "rawType": "object",
         "type": "string"
        },
        {
         "name": "disappointment_fretting",
         "rawType": "object",
         "type": "string"
        },
        {
         "name": "work_detachment",
         "rawType": "object",
         "type": "string"
        },
        {
         "name": "indecisiveness",
         "rawType": "object",
         "type": "string"
        },
        {
         "name": "easily_wound_up",
         "rawType": "object",
         "type": "string"
        },
        {
         "name": "loneliness",
         "rawType": "object",
         "type": "string"
        },
        {
         "name": "weather_mood",
         "rawType": "object",
         "type": "string"
        },
        {
         "name": "achievement_dissatisfaction",
         "rawType": "object",
         "type": "string"
        },
        {
         "name": "impatience",
         "rawType": "object",
         "type": "string"
        },
        {
         "name": "smoking",
         "rawType": "object",
         "type": "string"
        },
        {
         "name": "lack_confidence",
         "rawType": "object",
         "type": "string"
        },
        {
         "name": "unclear_thinking",
         "rawType": "object",
         "type": "string"
        },
        {
         "name": "rushed_work",
         "rawType": "object",
         "type": "string"
        },
        {
         "name": "poor_sleep",
         "rawType": "object",
         "type": "string"
        },
        {
         "name": "alcohol",
         "rawType": "object",
         "type": "string"
        },
        {
         "name": "relaxation_difficulty",
         "rawType": "object",
         "type": "string"
        },
        {
         "name": "poor_concentration",
         "rawType": "object",
         "type": "string"
        },
        {
         "name": "lack_exercise",
         "rawType": "object",
         "type": "string"
        },
        {
         "name": "noise_sensitivity",
         "rawType": "object",
         "type": "string"
        },
        {
         "name": "headaches",
         "rawType": "object",
         "type": "string"
        },
        {
         "name": "clammy_hands",
         "rawType": "object",
         "type": "string"
        },
        {
         "name": "criticism_sensitivity",
         "rawType": "object",
         "type": "string"
        },
        {
         "name": "panic_attacks",
         "rawType": "object",
         "type": "string"
        },
        {
         "name": "distrust",
         "rawType": "object",
         "type": "string"
        },
        {
         "name": "stomach_issues",
         "rawType": "object",
         "type": "string"
        },
        {
         "name": "people_pleasing",
         "rawType": "object",
         "type": "string"
        },
        {
         "name": "distractibility",
         "rawType": "object",
         "type": "string"
        },
        {
         "name": "easily_frightened",
         "rawType": "object",
         "type": "string"
        },
        {
         "name": "time_pressure",
         "rawType": "object",
         "type": "string"
        },
        {
         "name": "StressLevel",
         "rawType": "object",
         "type": "string"
        }
       ],
       "conversionMethod": "pd.DataFrame",
       "ref": "08b6f105-4026-4a14-9495-608bb6ca8fda",
       "rows": [
        [
         "0",
         "1",
         "B",
         "C",
         "A",
         "C",
         "A",
         "C",
         "A",
         "C",
         "A",
         "A",
         "B",
         "D",
         "B",
         "D",
         "B",
         "A",
         "B",
         "B",
         "C",
         "B",
         "B",
         "C",
         "A",
         "C",
         "B",
         "C",
         "D",
         "D",
         "B",
         "C",
         "D",
         "D",
         "C",
         "C",
         "C",
         "High"
        ],
        [
         "1",
         "2",
         "B",
         "A",
         "C",
         "B",
         "B",
         "A",
         "A",
         "A",
         "B",
         "A",
         "C",
         "C",
         "C",
         "B",
         "A",
         "B",
         "A",
         "A",
         "A",
         "A",
         "A",
         "C",
         "D",
         "A",
         "C",
         "C",
         "C",
         "B",
         "A",
         "C",
         "C",
         "C",
         "B",
         "A",
         "A",
         "Low"
        ],
        [
         "2",
         "3",
         "B",
         "B",
         "A",
         "B",
         "C",
         "D",
         "C",
         "B",
         "C",
         "C",
         "B",
         "B",
         "B",
         "C",
         "B",
         "C",
         "D",
         "A",
         "C",
         "B",
         "C",
         "D",
         "A",
         "A",
         "C",
         "A",
         "D",
         "C",
         "C",
         "D",
         "A",
         "D",
         "D",
         "D",
         "C",
         "High"
        ],
        [
         "3",
         "4",
         "D",
         "B",
         "B",
         "A",
         "B",
         "B",
         "B",
         "C",
         "C",
         "C",
         "B",
         "A",
         "C",
         "D",
         "C",
         "C",
         "B",
         "B",
         "C",
         "B",
         "C",
         "B",
         "C",
         "B",
         "D",
         "A",
         "A",
         "D",
         "B",
         "D",
         "A",
         "B",
         "B",
         "B",
         "D",
         "High"
        ],
        [
         "4",
         "5",
         "C",
         "B",
         "D",
         "B",
         "C",
         "B",
         "C",
         "B",
         "C",
         "C",
         "A",
         "B",
         "B",
         "A",
         "D",
         "C",
         "D",
         "A",
         "D",
         "B",
         "B",
         "C",
         "A",
         "B",
         "B",
         "A",
         "B",
         "C",
         "C",
         "A",
         "C",
         "D",
         "A",
         "D",
         "B",
         "High"
        ]
       ],
       "shape": {
        "columns": 37,
        "rows": 5
       }
      },
      "text/html": [
       "<div>\n",
       "<style scoped>\n",
       "    .dataframe tbody tr th:only-of-type {\n",
       "        vertical-align: middle;\n",
       "    }\n",
       "\n",
       "    .dataframe tbody tr th {\n",
       "        vertical-align: top;\n",
       "    }\n",
       "\n",
       "    .dataframe thead th {\n",
       "        text-align: right;\n",
       "    }\n",
       "</style>\n",
       "<table border=\"1\" class=\"dataframe\">\n",
       "  <thead>\n",
       "    <tr style=\"text-align: right;\">\n",
       "      <th></th>\n",
       "      <th>ID</th>\n",
       "      <th>achievement_satisfaction</th>\n",
       "      <th>irritation</th>\n",
       "      <th>hurry_to_finalize</th>\n",
       "      <th>self_doubt</th>\n",
       "      <th>rumination</th>\n",
       "      <th>emotional_repression</th>\n",
       "      <th>pessimism</th>\n",
       "      <th>disappointment_fretting</th>\n",
       "      <th>work_detachment</th>\n",
       "      <th>...</th>\n",
       "      <th>clammy_hands</th>\n",
       "      <th>criticism_sensitivity</th>\n",
       "      <th>panic_attacks</th>\n",
       "      <th>distrust</th>\n",
       "      <th>stomach_issues</th>\n",
       "      <th>people_pleasing</th>\n",
       "      <th>distractibility</th>\n",
       "      <th>easily_frightened</th>\n",
       "      <th>time_pressure</th>\n",
       "      <th>StressLevel</th>\n",
       "    </tr>\n",
       "  </thead>\n",
       "  <tbody>\n",
       "    <tr>\n",
       "      <th>0</th>\n",
       "      <td>1</td>\n",
       "      <td>B</td>\n",
       "      <td>C</td>\n",
       "      <td>A</td>\n",
       "      <td>C</td>\n",
       "      <td>A</td>\n",
       "      <td>C</td>\n",
       "      <td>A</td>\n",
       "      <td>C</td>\n",
       "      <td>A</td>\n",
       "      <td>...</td>\n",
       "      <td>D</td>\n",
       "      <td>D</td>\n",
       "      <td>B</td>\n",
       "      <td>C</td>\n",
       "      <td>D</td>\n",
       "      <td>D</td>\n",
       "      <td>C</td>\n",
       "      <td>C</td>\n",
       "      <td>C</td>\n",
       "      <td>High</td>\n",
       "    </tr>\n",
       "    <tr>\n",
       "      <th>1</th>\n",
       "      <td>2</td>\n",
       "      <td>B</td>\n",
       "      <td>A</td>\n",
       "      <td>C</td>\n",
       "      <td>B</td>\n",
       "      <td>B</td>\n",
       "      <td>A</td>\n",
       "      <td>A</td>\n",
       "      <td>A</td>\n",
       "      <td>B</td>\n",
       "      <td>...</td>\n",
       "      <td>C</td>\n",
       "      <td>B</td>\n",
       "      <td>A</td>\n",
       "      <td>C</td>\n",
       "      <td>C</td>\n",
       "      <td>C</td>\n",
       "      <td>B</td>\n",
       "      <td>A</td>\n",
       "      <td>A</td>\n",
       "      <td>Low</td>\n",
       "    </tr>\n",
       "    <tr>\n",
       "      <th>2</th>\n",
       "      <td>3</td>\n",
       "      <td>B</td>\n",
       "      <td>B</td>\n",
       "      <td>A</td>\n",
       "      <td>B</td>\n",
       "      <td>C</td>\n",
       "      <td>D</td>\n",
       "      <td>C</td>\n",
       "      <td>B</td>\n",
       "      <td>C</td>\n",
       "      <td>...</td>\n",
       "      <td>D</td>\n",
       "      <td>C</td>\n",
       "      <td>C</td>\n",
       "      <td>D</td>\n",
       "      <td>A</td>\n",
       "      <td>D</td>\n",
       "      <td>D</td>\n",
       "      <td>D</td>\n",
       "      <td>C</td>\n",
       "      <td>High</td>\n",
       "    </tr>\n",
       "    <tr>\n",
       "      <th>3</th>\n",
       "      <td>4</td>\n",
       "      <td>D</td>\n",
       "      <td>B</td>\n",
       "      <td>B</td>\n",
       "      <td>A</td>\n",
       "      <td>B</td>\n",
       "      <td>B</td>\n",
       "      <td>B</td>\n",
       "      <td>C</td>\n",
       "      <td>C</td>\n",
       "      <td>...</td>\n",
       "      <td>A</td>\n",
       "      <td>D</td>\n",
       "      <td>B</td>\n",
       "      <td>D</td>\n",
       "      <td>A</td>\n",
       "      <td>B</td>\n",
       "      <td>B</td>\n",
       "      <td>B</td>\n",
       "      <td>D</td>\n",
       "      <td>High</td>\n",
       "    </tr>\n",
       "    <tr>\n",
       "      <th>4</th>\n",
       "      <td>5</td>\n",
       "      <td>C</td>\n",
       "      <td>B</td>\n",
       "      <td>D</td>\n",
       "      <td>B</td>\n",
       "      <td>C</td>\n",
       "      <td>B</td>\n",
       "      <td>C</td>\n",
       "      <td>B</td>\n",
       "      <td>C</td>\n",
       "      <td>...</td>\n",
       "      <td>B</td>\n",
       "      <td>C</td>\n",
       "      <td>C</td>\n",
       "      <td>A</td>\n",
       "      <td>C</td>\n",
       "      <td>D</td>\n",
       "      <td>A</td>\n",
       "      <td>D</td>\n",
       "      <td>B</td>\n",
       "      <td>High</td>\n",
       "    </tr>\n",
       "  </tbody>\n",
       "</table>\n",
       "<p>5 rows × 37 columns</p>\n",
       "</div>"
      ],
      "text/plain": [
       "   ID achievement_satisfaction irritation hurry_to_finalize self_doubt  \\\n",
       "0   1                        B          C                 A          C   \n",
       "1   2                        B          A                 C          B   \n",
       "2   3                        B          B                 A          B   \n",
       "3   4                        D          B                 B          A   \n",
       "4   5                        C          B                 D          B   \n",
       "\n",
       "  rumination emotional_repression pessimism disappointment_fretting  \\\n",
       "0          A                    C         A                       C   \n",
       "1          B                    A         A                       A   \n",
       "2          C                    D         C                       B   \n",
       "3          B                    B         B                       C   \n",
       "4          C                    B         C                       B   \n",
       "\n",
       "  work_detachment  ... clammy_hands criticism_sensitivity panic_attacks  \\\n",
       "0               A  ...            D                     D             B   \n",
       "1               B  ...            C                     B             A   \n",
       "2               C  ...            D                     C             C   \n",
       "3               C  ...            A                     D             B   \n",
       "4               C  ...            B                     C             C   \n",
       "\n",
       "  distrust stomach_issues people_pleasing distractibility easily_frightened  \\\n",
       "0        C              D               D               C                 C   \n",
       "1        C              C               C               B                 A   \n",
       "2        D              A               D               D                 D   \n",
       "3        D              A               B               B                 B   \n",
       "4        A              C               D               A                 D   \n",
       "\n",
       "  time_pressure StressLevel  \n",
       "0             C        High  \n",
       "1             A         Low  \n",
       "2             C        High  \n",
       "3             D        High  \n",
       "4             B        High  \n",
       "\n",
       "[5 rows x 37 columns]"
      ]
     },
     "execution_count": 212,
     "metadata": {},
     "output_type": "execute_result"
    }
   ],
   "source": [
    "synthetic_stress = pd.read_csv('synthetic/mnt/student_stress_dataset_2500_balanced.csv')\n",
    "synthetic_stress.head()"
   ]
  },
  {
   "cell_type": "markdown",
   "id": "28a5437a",
   "metadata": {},
   "source": [
    "I have asked chat gpt to generate a dataset based on the questions I have got from the book:\n",
    "\n",
    "    - I am never completely satisfied with my achievements\n",
    "    - I am quickly irritated by other people\n",
    "    - I am in a hurry to finalize things\n",
    "    - I am often unsure of myself\n",
    "    - I often dwell on things that have happened\n",
    "    - I find it hard to show my emotions\n",
    "    - The future seems gloomy to me\n",
    "    - I tend to fret about disappointments\n",
    "    - I find it hard to distance myself from my work, during my own time\n",
    "    - I hesitate when making decisions\n",
    "    - I am easily wound up\n",
    "    - I often feel lonely\n",
    "    - The weather affects my mood\n",
    "    - I am often dissatisfied with my achievements\n",
    "    - I quickly become impatient\n",
    "    - I smoke too much\n",
    "    - I lack confidence\n",
    "    - I find it hard to think clearly when I am in a difficult situation\n",
    "    - I often feel rushed in my work \n",
    "    - I am not sleeping well\n",
    "    - I drink more than I should\n",
    "    - I find it hard to relax\n",
    "    - I cant concentrate\n",
    "    - I don't get much exercise\n",
    "    - I am sensitive to noise\n",
    "    - I am prone to sudden headaches\n",
    "    - I often have clammy hands\n",
    "    - I find criticism difficult and I don't deal with it well\n",
    "    - I often have panic attacks\n",
    "    - I distrust people around\n",
    "    - I have stomachaches and/or intestinal problems\n",
    "    - I often allow my life to be dictated by other people, or by my environment\n",
    "    - I am easily distracted, either by people or by events\n",
    "    - I get frightened easily\n",
    "    - I am often pushed for time"
   ]
  },
  {
   "cell_type": "code",
   "execution_count": 213,
   "id": "1f4bff24",
   "metadata": {},
   "outputs": [
    {
     "name": "stdout",
     "output_type": "stream",
     "text": [
      "<class 'pandas.core.frame.DataFrame'>\n",
      "RangeIndex: 2500 entries, 0 to 2499\n",
      "Data columns (total 37 columns):\n",
      " #   Column                       Non-Null Count  Dtype \n",
      "---  ------                       --------------  ----- \n",
      " 0   ID                           2500 non-null   int64 \n",
      " 1   achievement_satisfaction     2500 non-null   object\n",
      " 2   irritation                   2500 non-null   object\n",
      " 3   hurry_to_finalize            2500 non-null   object\n",
      " 4   self_doubt                   2500 non-null   object\n",
      " 5   rumination                   2500 non-null   object\n",
      " 6   emotional_repression         2500 non-null   object\n",
      " 7   pessimism                    2500 non-null   object\n",
      " 8   disappointment_fretting      2500 non-null   object\n",
      " 9   work_detachment              2500 non-null   object\n",
      " 10  indecisiveness               2500 non-null   object\n",
      " 11  easily_wound_up              2500 non-null   object\n",
      " 12  loneliness                   2500 non-null   object\n",
      " 13  weather_mood                 2500 non-null   object\n",
      " 14  achievement_dissatisfaction  2500 non-null   object\n",
      " 15  impatience                   2500 non-null   object\n",
      " 16  smoking                      2500 non-null   object\n",
      " 17  lack_confidence              2500 non-null   object\n",
      " 18  unclear_thinking             2500 non-null   object\n",
      " 19  rushed_work                  2500 non-null   object\n",
      " 20  poor_sleep                   2500 non-null   object\n",
      " 21  alcohol                      2500 non-null   object\n",
      " 22  relaxation_difficulty        2500 non-null   object\n",
      " 23  poor_concentration           2500 non-null   object\n",
      " 24  lack_exercise                2500 non-null   object\n",
      " 25  noise_sensitivity            2500 non-null   object\n",
      " 26  headaches                    2500 non-null   object\n",
      " 27  clammy_hands                 2500 non-null   object\n",
      " 28  criticism_sensitivity        2500 non-null   object\n",
      " 29  panic_attacks                2500 non-null   object\n",
      " 30  distrust                     2500 non-null   object\n",
      " 31  stomach_issues               2500 non-null   object\n",
      " 32  people_pleasing              2500 non-null   object\n",
      " 33  distractibility              2500 non-null   object\n",
      " 34  easily_frightened            2500 non-null   object\n",
      " 35  time_pressure                2500 non-null   object\n",
      " 36  StressLevel                  2500 non-null   object\n",
      "dtypes: int64(1), object(36)\n",
      "memory usage: 722.8+ KB\n"
     ]
    }
   ],
   "source": [
    "synthetic_stress.info()"
   ]
  },
  {
   "cell_type": "markdown",
   "id": "ab4a62d7",
   "metadata": {},
   "source": [
    "Each question can have 4 possible answers: A (never), B(sometimes), C(often), D(always)"
   ]
  },
  {
   "cell_type": "code",
   "execution_count": 214,
   "id": "28f27692",
   "metadata": {},
   "outputs": [
    {
     "name": "stdout",
     "output_type": "stream",
     "text": [
      "['B' 'D' 'C' 'A']\n"
     ]
    }
   ],
   "source": [
    "unique_example = synthetic_stress['achievement_satisfaction'].unique()\n",
    "print(unique_example)"
   ]
  },
  {
   "cell_type": "code",
   "execution_count": 215,
   "id": "b09930cd",
   "metadata": {},
   "outputs": [
    {
     "data": {
      "application/vnd.microsoft.datawrangler.viewer.v0+json": {
       "columns": [
        {
         "name": "index",
         "rawType": "object",
         "type": "string"
        },
        {
         "name": "ID",
         "rawType": "float64",
         "type": "float"
        }
       ],
       "conversionMethod": "pd.DataFrame",
       "ref": "ce1c0264-6639-4417-aa5e-5d989d30441e",
       "rows": [
        [
         "count",
         "2500.0"
        ],
        [
         "mean",
         "1250.5"
        ],
        [
         "std",
         "721.8321596234589"
        ],
        [
         "min",
         "1.0"
        ],
        [
         "25%",
         "625.75"
        ],
        [
         "50%",
         "1250.5"
        ],
        [
         "75%",
         "1875.25"
        ],
        [
         "max",
         "2500.0"
        ]
       ],
       "shape": {
        "columns": 1,
        "rows": 8
       }
      },
      "text/html": [
       "<div>\n",
       "<style scoped>\n",
       "    .dataframe tbody tr th:only-of-type {\n",
       "        vertical-align: middle;\n",
       "    }\n",
       "\n",
       "    .dataframe tbody tr th {\n",
       "        vertical-align: top;\n",
       "    }\n",
       "\n",
       "    .dataframe thead th {\n",
       "        text-align: right;\n",
       "    }\n",
       "</style>\n",
       "<table border=\"1\" class=\"dataframe\">\n",
       "  <thead>\n",
       "    <tr style=\"text-align: right;\">\n",
       "      <th></th>\n",
       "      <th>ID</th>\n",
       "    </tr>\n",
       "  </thead>\n",
       "  <tbody>\n",
       "    <tr>\n",
       "      <th>count</th>\n",
       "      <td>2500.00000</td>\n",
       "    </tr>\n",
       "    <tr>\n",
       "      <th>mean</th>\n",
       "      <td>1250.50000</td>\n",
       "    </tr>\n",
       "    <tr>\n",
       "      <th>std</th>\n",
       "      <td>721.83216</td>\n",
       "    </tr>\n",
       "    <tr>\n",
       "      <th>min</th>\n",
       "      <td>1.00000</td>\n",
       "    </tr>\n",
       "    <tr>\n",
       "      <th>25%</th>\n",
       "      <td>625.75000</td>\n",
       "    </tr>\n",
       "    <tr>\n",
       "      <th>50%</th>\n",
       "      <td>1250.50000</td>\n",
       "    </tr>\n",
       "    <tr>\n",
       "      <th>75%</th>\n",
       "      <td>1875.25000</td>\n",
       "    </tr>\n",
       "    <tr>\n",
       "      <th>max</th>\n",
       "      <td>2500.00000</td>\n",
       "    </tr>\n",
       "  </tbody>\n",
       "</table>\n",
       "</div>"
      ],
      "text/plain": [
       "               ID\n",
       "count  2500.00000\n",
       "mean   1250.50000\n",
       "std     721.83216\n",
       "min       1.00000\n",
       "25%     625.75000\n",
       "50%    1250.50000\n",
       "75%    1875.25000\n",
       "max    2500.00000"
      ]
     },
     "execution_count": 215,
     "metadata": {},
     "output_type": "execute_result"
    }
   ],
   "source": [
    "synthetic_stress.describe()"
   ]
  },
  {
   "cell_type": "code",
   "execution_count": 216,
   "id": "d920376f",
   "metadata": {},
   "outputs": [
    {
     "name": "stdout",
     "output_type": "stream",
     "text": [
      "StressLevel\n",
      "Moderate    1766\n",
      "High         670\n",
      "Low           64\n",
      "Name: count, dtype: int64\n"
     ]
    },
    {
     "data": {
      "text/plain": [
       "<Axes: xlabel='StressLevel'>"
      ]
     },
     "execution_count": 216,
     "metadata": {},
     "output_type": "execute_result"
    },
    {
     "data": {
      "image/png": "[encoded data removed]",
      "text/plain": [
       "<Figure size 640x480 with 1 Axes>"
      ]
     },
     "metadata": {},
     "output_type": "display_data"
    }
   ],
   "source": [
    "print(synthetic_stress['StressLevel'].value_counts())\n",
    "synthetic_stress['StressLevel'].value_counts().plot(kind='bar')"
   ]
  },
  {
   "cell_type": "markdown",
   "id": "2c8aa91b",
   "metadata": {},
   "source": [
    "The distribution of the target variable classes is not balanced, but when I will work on a real dataset, it might be the same. "
   ]
  },
  {
   "cell_type": "markdown",
   "id": "9be9a692",
   "metadata": {},
   "source": [
    "### Preprocessing"
   ]
  },
  {
   "cell_type": "markdown",
   "id": "a009384c",
   "metadata": {},
   "source": [
    "Dropping ID column as it is not needed for my case."
   ]
  },
  {
   "cell_type": "code",
   "execution_count": 217,
   "id": "7e1f66ae",
   "metadata": {},
   "outputs": [
    {
     "data": {
      "application/vnd.microsoft.datawrangler.viewer.v0+json": {
       "columns": [
        {
         "name": "index",
         "rawType": "int64",
         "type": "integer"
        },
        {
         "name": "achievement_satisfaction",
         "rawType": "object",
         "type": "string"
        },
        {
         "name": "irritation",
         "rawType": "object",
         "type": "string"
        },
        {
         "name": "hurry_to_finalize",
         "rawType": "object",
         "type": "string"
        },
        {
         "name": "self_doubt",
         "rawType": "object",
         "type": "string"
        },
        {
         "name": "rumination",
         "rawType": "object",
         "type": "string"
        },
        {
         "name": "emotional_repression",
         "rawType": "object",
         "type": "string"
        },
        {
         "name": "pessimism",
         "rawType": "object",
         "type": "string"
        },
        {
         "name": "disappointment_fretting",
         "rawType": "object",
         "type": "string"
        },
        {
         "name": "work_detachment",
         "rawType": "object",
         "type": "string"
        },
        {
         "name": "indecisiveness",
         "rawType": "object",
         "type": "string"
        },
        {
         "name": "easily_wound_up",
         "rawType": "object",
         "type": "string"
        },
        {
         "name": "loneliness",
         "rawType": "object",
         "type": "string"
        },
        {
         "name": "weather_mood",
         "rawType": "object",
         "type": "string"
        },
        {
         "name": "achievement_dissatisfaction",
         "rawType": "object",
         "type": "string"
        },
        {
         "name": "impatience",
         "rawType": "object",
         "type": "string"
        },
        {
         "name": "smoking",
         "rawType": "object",
         "type": "string"
        },
        {
         "name": "lack_confidence",
         "rawType": "object",
         "type": "string"
        },
        {
         "name": "unclear_thinking",
         "rawType": "object",
         "type": "string"
        },
        {
         "name": "rushed_work",
         "rawType": "object",
         "type": "string"
        },
        {
         "name": "poor_sleep",
         "rawType": "object",
         "type": "string"
        },
        {
         "name": "alcohol",
         "rawType": "object",
         "type": "string"
        },
        {
         "name": "relaxation_difficulty",
         "rawType": "object",
         "type": "string"
        },
        {
         "name": "poor_concentration",
         "rawType": "object",
         "type": "string"
        },
        {
         "name": "lack_exercise",
         "rawType": "object",
         "type": "string"
        },
        {
         "name": "noise_sensitivity",
         "rawType": "object",
         "type": "string"
        },
        {
         "name": "headaches",
         "rawType": "object",
         "type": "string"
        },
        {
         "name": "clammy_hands",
         "rawType": "object",
         "type": "string"
        },
        {
         "name": "criticism_sensitivity",
         "rawType": "object",
         "type": "string"
        },
        {
         "name": "panic_attacks",
         "rawType": "object",
         "type": "string"
        },
        {
         "name": "distrust",
         "rawType": "object",
         "type": "string"
        },
        {
         "name": "stomach_issues",
         "rawType": "object",
         "type": "string"
        },
        {
         "name": "people_pleasing",
         "rawType": "object",
         "type": "string"
        },
        {
         "name": "distractibility",
         "rawType": "object",
         "type": "string"
        },
        {
         "name": "easily_frightened",
         "rawType": "object",
         "type": "string"
        },
        {
         "name": "time_pressure",
         "rawType": "object",
         "type": "string"
        },
        {
         "name": "StressLevel",
         "rawType": "object",
         "type": "string"
        }
       ],
       "conversionMethod": "pd.DataFrame",
       "ref": "18dc2290-8226-44e0-adea-62715f964606",
       "rows": [
        [
         "488",
         "D",
         "B",
         "B",
         "A",
         "A",
         "C",
         "B",
         "C",
         "A",
         "A",
         "C",
         "A",
         "C",
         "B",
         "A",
         "B",
         "B",
         "A",
         "C",
         "A",
         "D",
         "A",
         "B",
         "D",
         "A",
         "C",
         "D",
         "B",
         "B",
         "D",
         "D",
         "A",
         "D",
         "C",
         "C",
         "Moderate"
        ],
        [
         "1821",
         "B",
         "A",
         "B",
         "B",
         "C",
         "C",
         "B",
         "B",
         "A",
         "C",
         "C",
         "B",
         "C",
         "A",
         "A",
         "C",
         "A",
         "C",
         "A",
         "B",
         "B",
         "B",
         "B",
         "C",
         "D",
         "D",
         "A",
         "B",
         "A",
         "B",
         "B",
         "B",
         "C",
         "B",
         "A",
         "Moderate"
        ],
        [
         "1438",
         "C",
         "A",
         "D",
         "C",
         "A",
         "C",
         "A",
         "B",
         "A",
         "D",
         "D",
         "D",
         "D",
         "D",
         "B",
         "D",
         "A",
         "A",
         "B",
         "C",
         "B",
         "C",
         "C",
         "B",
         "B",
         "C",
         "B",
         "B",
         "B",
         "C",
         "A",
         "B",
         "C",
         "A",
         "D",
         "High"
        ],
        [
         "615",
         "B",
         "C",
         "C",
         "C",
         "A",
         "B",
         "B",
         "D",
         "C",
         "A",
         "B",
         "B",
         "B",
         "C",
         "B",
         "A",
         "D",
         "D",
         "B",
         "A",
         "A",
         "C",
         "A",
         "A",
         "B",
         "D",
         "A",
         "C",
         "B",
         "B",
         "B",
         "B",
         "B",
         "A",
         "D",
         "Moderate"
        ],
        [
         "458",
         "B",
         "C",
         "B",
         "C",
         "B",
         "B",
         "C",
         "A",
         "B",
         "C",
         "B",
         "D",
         "B",
         "D",
         "B",
         "A",
         "D",
         "B",
         "C",
         "B",
         "D",
         "B",
         "C",
         "B",
         "D",
         "D",
         "B",
         "D",
         "A",
         "A",
         "A",
         "C",
         "C",
         "C",
         "C",
         "High"
        ]
       ],
       "shape": {
        "columns": 36,
        "rows": 5
       }
      },
      "text/html": [
       "<div>\n",
       "<style scoped>\n",
       "    .dataframe tbody tr th:only-of-type {\n",
       "        vertical-align: middle;\n",
       "    }\n",
       "\n",
       "    .dataframe tbody tr th {\n",
       "        vertical-align: top;\n",
       "    }\n",
       "\n",
       "    .dataframe thead th {\n",
       "        text-align: right;\n",
       "    }\n",
       "</style>\n",
       "<table border=\"1\" class=\"dataframe\">\n",
       "  <thead>\n",
       "    <tr style=\"text-align: right;\">\n",
       "      <th></th>\n",
       "      <th>achievement_satisfaction</th>\n",
       "      <th>irritation</th>\n",
       "      <th>hurry_to_finalize</th>\n",
       "      <th>self_doubt</th>\n",
       "      <th>rumination</th>\n",
       "      <th>emotional_repression</th>\n",
       "      <th>pessimism</th>\n",
       "      <th>disappointment_fretting</th>\n",
       "      <th>work_detachment</th>\n",
       "      <th>indecisiveness</th>\n",
       "      <th>...</th>\n",
       "      <th>clammy_hands</th>\n",
       "      <th>criticism_sensitivity</th>\n",
       "      <th>panic_attacks</th>\n",
       "      <th>distrust</th>\n",
       "      <th>stomach_issues</th>\n",
       "      <th>people_pleasing</th>\n",
       "      <th>distractibility</th>\n",
       "      <th>easily_frightened</th>\n",
       "      <th>time_pressure</th>\n",
       "      <th>StressLevel</th>\n",
       "    </tr>\n",
       "  </thead>\n",
       "  <tbody>\n",
       "    <tr>\n",
       "      <th>488</th>\n",
       "      <td>D</td>\n",
       "      <td>B</td>\n",
       "      <td>B</td>\n",
       "      <td>A</td>\n",
       "      <td>A</td>\n",
       "      <td>C</td>\n",
       "      <td>B</td>\n",
       "      <td>C</td>\n",
       "      <td>A</td>\n",
       "      <td>A</td>\n",
       "      <td>...</td>\n",
       "      <td>D</td>\n",
       "      <td>B</td>\n",
       "      <td>B</td>\n",
       "      <td>D</td>\n",
       "      <td>D</td>\n",
       "      <td>A</td>\n",
       "      <td>D</td>\n",
       "      <td>C</td>\n",
       "      <td>C</td>\n",
       "      <td>Moderate</td>\n",
       "    </tr>\n",
       "    <tr>\n",
       "      <th>1821</th>\n",
       "      <td>B</td>\n",
       "      <td>A</td>\n",
       "      <td>B</td>\n",
       "      <td>B</td>\n",
       "      <td>C</td>\n",
       "      <td>C</td>\n",
       "      <td>B</td>\n",
       "      <td>B</td>\n",
       "      <td>A</td>\n",
       "      <td>C</td>\n",
       "      <td>...</td>\n",
       "      <td>A</td>\n",
       "      <td>B</td>\n",
       "      <td>A</td>\n",
       "      <td>B</td>\n",
       "      <td>B</td>\n",
       "      <td>B</td>\n",
       "      <td>C</td>\n",
       "      <td>B</td>\n",
       "      <td>A</td>\n",
       "      <td>Moderate</td>\n",
       "    </tr>\n",
       "    <tr>\n",
       "      <th>1438</th>\n",
       "      <td>C</td>\n",
       "      <td>A</td>\n",
       "      <td>D</td>\n",
       "      <td>C</td>\n",
       "      <td>A</td>\n",
       "      <td>C</td>\n",
       "      <td>A</td>\n",
       "      <td>B</td>\n",
       "      <td>A</td>\n",
       "      <td>D</td>\n",
       "      <td>...</td>\n",
       "      <td>B</td>\n",
       "      <td>B</td>\n",
       "      <td>B</td>\n",
       "      <td>C</td>\n",
       "      <td>A</td>\n",
       "      <td>B</td>\n",
       "      <td>C</td>\n",
       "      <td>A</td>\n",
       "      <td>D</td>\n",
       "      <td>High</td>\n",
       "    </tr>\n",
       "    <tr>\n",
       "      <th>615</th>\n",
       "      <td>B</td>\n",
       "      <td>C</td>\n",
       "      <td>C</td>\n",
       "      <td>C</td>\n",
       "      <td>A</td>\n",
       "      <td>B</td>\n",
       "      <td>B</td>\n",
       "      <td>D</td>\n",
       "      <td>C</td>\n",
       "      <td>A</td>\n",
       "      <td>...</td>\n",
       "      <td>A</td>\n",
       "      <td>C</td>\n",
       "      <td>B</td>\n",
       "      <td>B</td>\n",
       "      <td>B</td>\n",
       "      <td>B</td>\n",
       "      <td>B</td>\n",
       "      <td>A</td>\n",
       "      <td>D</td>\n",
       "      <td>Moderate</td>\n",
       "    </tr>\n",
       "    <tr>\n",
       "      <th>458</th>\n",
       "      <td>B</td>\n",
       "      <td>C</td>\n",
       "      <td>B</td>\n",
       "      <td>C</td>\n",
       "      <td>B</td>\n",
       "      <td>B</td>\n",
       "      <td>C</td>\n",
       "      <td>A</td>\n",
       "      <td>B</td>\n",
       "      <td>C</td>\n",
       "      <td>...</td>\n",
       "      <td>B</td>\n",
       "      <td>D</td>\n",
       "      <td>A</td>\n",
       "      <td>A</td>\n",
       "      <td>A</td>\n",
       "      <td>C</td>\n",
       "      <td>C</td>\n",
       "      <td>C</td>\n",
       "      <td>C</td>\n",
       "      <td>High</td>\n",
       "    </tr>\n",
       "  </tbody>\n",
       "</table>\n",
       "<p>5 rows × 36 columns</p>\n",
       "</div>"
      ],
      "text/plain": [
       "     achievement_satisfaction irritation hurry_to_finalize self_doubt  \\\n",
       "488                         D          B                 B          A   \n",
       "1821                        B          A                 B          B   \n",
       "1438                        C          A                 D          C   \n",
       "615                         B          C                 C          C   \n",
       "458                         B          C                 B          C   \n",
       "\n",
       "     rumination emotional_repression pessimism disappointment_fretting  \\\n",
       "488           A                    C         B                       C   \n",
       "1821          C                    C         B                       B   \n",
       "1438          A                    C         A                       B   \n",
       "615           A                    B         B                       D   \n",
       "458           B                    B         C                       A   \n",
       "\n",
       "     work_detachment indecisiveness  ... clammy_hands criticism_sensitivity  \\\n",
       "488                A              A  ...            D                     B   \n",
       "1821               A              C  ...            A                     B   \n",
       "1438               A              D  ...            B                     B   \n",
       "615                C              A  ...            A                     C   \n",
       "458                B              C  ...            B                     D   \n",
       "\n",
       "     panic_attacks distrust stomach_issues people_pleasing distractibility  \\\n",
       "488              B        D              D               A               D   \n",
       "1821             A        B              B               B               C   \n",
       "1438             B        C              A               B               C   \n",
       "615              B        B              B               B               B   \n",
       "458              A        A              A               C               C   \n",
       "\n",
       "     easily_frightened time_pressure StressLevel  \n",
       "488                  C             C    Moderate  \n",
       "1821                 B             A    Moderate  \n",
       "1438                 A             D        High  \n",
       "615                  A             D    Moderate  \n",
       "458                  C             C        High  \n",
       "\n",
       "[5 rows x 36 columns]"
      ]
     },
     "execution_count": 217,
     "metadata": {},
     "output_type": "execute_result"
    }
   ],
   "source": [
    "synthetic_stress.drop(['ID'], axis=1, inplace=True)\n",
    "synthetic_stress.sample(5)"
   ]
  },
  {
   "cell_type": "code",
   "execution_count": 218,
   "id": "c5a14396",
   "metadata": {},
   "outputs": [],
   "source": [
    "synthetic_features = ['achievement_satisfaction', 'irritation', 'hurry_to_finalize', 'self_doubt', 'rumination', 'emotional_repression', 'pessimism', 'disappointment_fretting', 'work_detachment', 'indecisiveness', 'easily_wound_up', 'loneliness', 'weather_mood', 'achievement_dissatisfaction', 'impatience', 'smoking', 'lack_confidence', 'unclear_thinking', 'rushed_work', 'poor_sleep', 'alcohol', 'relaxation_difficulty', 'poor_concentration', 'lack_exercise', 'noise_sensitivity', 'headaches', 'clammy_hands', 'criticism_sensitivity', 'panic_attacks', 'distrust', 'stomach_issues', 'people_pleasing', 'distractibility', 'easily_frightened', 'time_pressure']"
   ]
  },
  {
   "cell_type": "markdown",
   "id": "cf0c75cf",
   "metadata": {},
   "source": [
    "Making values numerical. I figured as my data is categorical, I can just use sklearn OneHotEncoder, to save myself some time as it does the same thing, but I leave this for future improvement"
   ]
  },
  {
   "cell_type": "code",
   "execution_count": 219,
   "id": "4bda1dd0",
   "metadata": {},
   "outputs": [],
   "source": [
    "synthetic_stress[\"achievement_satisfaction\"] = synthetic_stress[\"achievement_satisfaction\"].map({'A':0, 'B':1, 'C':2, 'D':3}).astype(int)\n",
    "synthetic_stress[\"irritation\"] = synthetic_stress[\"irritation\"].map({'A':0, 'B':1, 'C':2, 'D':3}).astype(int)\n",
    "synthetic_stress[\"hurry_to_finalize\"] = synthetic_stress[\"hurry_to_finalize\"].map({'A':0, 'B':1, 'C':2, 'D':3}).astype(int)\n",
    "synthetic_stress[\"self_doubt\"] = synthetic_stress[\"self_doubt\"].map({'A':0, 'B':1, 'C':2, 'D':3}).astype(int)\n",
    "synthetic_stress[\"rumination\"] = synthetic_stress[\"rumination\"].map({'A':0, 'B':1, 'C':2, 'D':3}).astype(int)\n",
    "synthetic_stress[\"emotional_repression\"] = synthetic_stress[\"emotional_repression\"].map({'A':0, 'B':1, 'C':2, 'D':3}).astype(int)\n",
    "synthetic_stress[\"pessimism\"] = synthetic_stress[\"pessimism\"].map({'A':0, 'B':1, 'C':2, 'D':3}).astype(int)\n",
    "synthetic_stress[\"disappointment_fretting\"] = synthetic_stress[\"disappointment_fretting\"].map({'A':0, 'B':1, 'C':2, 'D':3}).astype(int)\n",
    "synthetic_stress[\"work_detachment\"] = synthetic_stress[\"work_detachment\"].map({'A':0, 'B':1, 'C':2, 'D':3}).astype(int)\n",
    "synthetic_stress[\"indecisiveness\"] = synthetic_stress[\"indecisiveness\"].map({'A':0, 'B':1, 'C':2, 'D':3}).astype(int)\n",
    "synthetic_stress[\"easily_wound_up\"] = synthetic_stress[\"easily_wound_up\"].map({'A':0, 'B':1, 'C':2, 'D':3}).astype(int)\n",
    "synthetic_stress[\"loneliness\"] = synthetic_stress[\"loneliness\"].map({'A':0, 'B':1, 'C':2, 'D':3}).astype(int)\n",
    "synthetic_stress[\"weather_mood\"] = synthetic_stress[\"weather_mood\"].map({'A':0, 'B':1, 'C':2, 'D':3}).astype(int)\n",
    "synthetic_stress[\"achievement_dissatisfaction\"] = synthetic_stress[\"achievement_dissatisfaction\"].map({'A':0, 'B':1, 'C':2, 'D':3}).astype(int)\n",
    "synthetic_stress[\"impatience\"] = synthetic_stress[\"impatience\"].map({'A':0, 'B':1, 'C':2, 'D':3}).astype(int)\n",
    "synthetic_stress[\"smoking\"] = synthetic_stress[\"smoking\"].map({'A':0, 'B':1, 'C':2, 'D':3}).astype(int)\n",
    "synthetic_stress[\"lack_confidence\"] = synthetic_stress[\"lack_confidence\"].map({'A':0, 'B':1, 'C':2, 'D':3}).astype(int)\n",
    "synthetic_stress[\"unclear_thinking\"] = synthetic_stress[\"unclear_thinking\"].map({'A':0, 'B':1, 'C':2, 'D':3}).astype(int)\n",
    "synthetic_stress[\"rushed_work\"] = synthetic_stress[\"rushed_work\"].map({'A':0, 'B':1, 'C':2, 'D':3}).astype(int)\n",
    "synthetic_stress[\"poor_sleep\"] = synthetic_stress[\"poor_sleep\"].map({'A':0, 'B':1, 'C':2, 'D':3}).astype(int)\n",
    "synthetic_stress[\"alcohol\"] = synthetic_stress[\"alcohol\"].map({'A':0, 'B':1, 'C':2, 'D':3}).astype(int)\n",
    "synthetic_stress[\"relaxation_difficulty\"] = synthetic_stress[\"relaxation_difficulty\"].map({'A':0, 'B':1, 'C':2, 'D':3}).astype(int)\n",
    "synthetic_stress[\"poor_concentration\"] = synthetic_stress[\"poor_concentration\"].map({'A':0, 'B':1, 'C':2, 'D':3}).astype(int)\n",
    "synthetic_stress[\"lack_exercise\"] = synthetic_stress[\"lack_exercise\"].map({'A':0, 'B':1, 'C':2, 'D':3}).astype(int)\n",
    "synthetic_stress[\"noise_sensitivity\"] = synthetic_stress[\"noise_sensitivity\"].map({'A':0, 'B':1, 'C':2, 'D':3}).astype(int)\n",
    "synthetic_stress[\"headaches\"] = synthetic_stress[\"headaches\"].map({'A':0, 'B':1, 'C':2, 'D':3}).astype(int)\n",
    "synthetic_stress[\"clammy_hands\"] = synthetic_stress[\"clammy_hands\"].map({'A':0, 'B':1, 'C':2, 'D':3}).astype(int)\n",
    "synthetic_stress[\"criticism_sensitivity\"] = synthetic_stress[\"criticism_sensitivity\"].map({'A':0, 'B':1, 'C':2, 'D':3}).astype(int)\n",
    "synthetic_stress[\"panic_attacks\"] = synthetic_stress[\"panic_attacks\"].map({'A':0, 'B':1, 'C':2, 'D':3}).astype(int)\n",
    "synthetic_stress[\"distrust\"] = synthetic_stress[\"distrust\"].map({'A':0, 'B':1, 'C':2, 'D':3}).astype(int)\n",
    "synthetic_stress[\"stomach_issues\"] = synthetic_stress[\"stomach_issues\"].map({'A':0, 'B':1, 'C':2, 'D':3}).astype(int)\n",
    "synthetic_stress[\"people_pleasing\"] = synthetic_stress[\"people_pleasing\"].map({'A':0, 'B':1, 'C':2, 'D':3}).astype(int)\n",
    "synthetic_stress[\"distractibility\"] = synthetic_stress[\"distractibility\"].map({'A':0, 'B':1, 'C':2, 'D':3}).astype(int)\n",
    "synthetic_stress[\"easily_frightened\"] = synthetic_stress[\"easily_frightened\"].map({'A':0, 'B':1, 'C':2, 'D':3}).astype(int)\n",
    "synthetic_stress[\"time_pressure\"] = synthetic_stress[\"time_pressure\"].map({'A':0, 'B':1, 'C':2, 'D':3}).astype(int)\n",
    "\n",
    "synthetic_stress[\"StressLevel\"] = synthetic_stress[\"StressLevel\"].map({'Low':0, 'Moderate':1, 'High':2}).astype(int)"
   ]
  },
  {
   "cell_type": "markdown",
   "id": "9152b6d8",
   "metadata": {},
   "source": [
    "I have modified the heatmap a bit so it covers all features and is not a huge mess at the same time"
   ]
  },
  {
   "cell_type": "code",
   "execution_count": 220,
   "id": "d7878181",
   "metadata": {},
   "outputs": [
    {
     "data": {
      "image/png": "[encoded data removed]",
      "text/plain": [
       "<Figure size 600x1750 with 2 Axes>"
      ]
     },
     "metadata": {},
     "output_type": "display_data"
    }
   ],
   "source": [
    "correlation_matrix = synthetic_stress.corr()\n",
    "stress_corr = correlation_matrix[['StressLevel']].drop('StressLevel')\n",
    "plt.figure(figsize=(6, len(stress_corr) * 0.5)) \n",
    "sns.heatmap(stress_corr, annot=True, fmt=\".2f\", cmap='coolwarm', center=0)\n",
    "plt.title('Correlation with StressLevel')\n",
    "plt.show()"
   ]
  },
  {
   "cell_type": "markdown",
   "id": "d391347f",
   "metadata": {},
   "source": [
    "The problem with such data is that the relation between categorical features and categorical target variable is that its hard to see using normal pairplot or heatmap, so I wil try to use approaches I have found on the internet for such case "
   ]
  },
  {
   "cell_type": "markdown",
   "id": "dd1246fe",
   "metadata": {},
   "source": [
    "To save space I will perform the tests only on those features that have stronger correlation (heatmap)"
   ]
  },
  {
   "cell_type": "markdown",
   "id": "97b2d134",
   "metadata": {},
   "source": [
    "First thing I will try is to use boxplot, to see which categories of a feature relate to specific categories "
   ]
  },
  {
   "cell_type": "code",
   "execution_count": 221,
   "id": "9ca6a84c",
   "metadata": {},
   "outputs": [
    {
     "data": {
      "image/png": "[encoded data removed]",
      "text/plain": [
       "<Figure size 1000x600 with 1 Axes>"
      ]
     },
     "metadata": {},
     "output_type": "display_data"
    }
   ],
   "source": [
    "plt.figure(figsize=(10, 6))\n",
    "sns.boxplot(data=synthetic_stress, x='rushed_work', y='StressLevel')\n",
    "plt.title('StressLevel vs Rushed Work')\n",
    "plt.show()"
   ]
  },
  {
   "cell_type": "markdown",
   "id": "dbf42ea2",
   "metadata": {},
   "source": [
    "From here it can be seen that the values of rushed work 2 and 3 (which is C(often), D(always)), have high density in categories 1 and 2 of the target variable (). Another thing I can pin point is the outliers in rushed_work 0 and 1 in category 2 of the StressLevel. I will cover this in the conclusion."
   ]
  },
  {
   "cell_type": "markdown",
   "id": "14ac67f5",
   "metadata": {},
   "source": [
    "The second approach I have found is a crossatab. It shows pretty muc the same thing as the boxplot but in numeric view"
   ]
  },
  {
   "cell_type": "code",
   "execution_count": 222,
   "id": "d123f9fb",
   "metadata": {},
   "outputs": [
    {
     "name": "stdout",
     "output_type": "stream",
     "text": [
      "StressLevel                0    1    2\n",
      "achievement_satisfaction              \n",
      "0                         28  461  102\n",
      "1                         17  626  222\n",
      "2                         15  448  196\n",
      "3                          4  231  150\n"
     ]
    }
   ],
   "source": [
    "contingency = pd.crosstab(synthetic_stress['achievement_satisfaction'], synthetic_stress['StressLevel'])\n",
    "print(contingency)"
   ]
  },
  {
   "cell_type": "markdown",
   "id": "8b5671cb",
   "metadata": {},
   "source": [
    "Third approach I have found is a chi-square test. "
   ]
  },
  {
   "cell_type": "code",
   "execution_count": 223,
   "id": "2d9d8a31",
   "metadata": {},
   "outputs": [
    {
     "name": "stdout",
     "output_type": "stream",
     "text": [
      "Chi-square = 73.55, p-value = 0.0000\n"
     ]
    }
   ],
   "source": [
    "from scipy.stats import chi2_contingency\n",
    "contingency = pd.crosstab(synthetic_stress['irritation'], synthetic_stress['StressLevel'])\n",
    "chi2, p, dof, expected = chi2_contingency(contingency)\n",
    "\n",
    "print(f\"Chi-square = {chi2:.2f}, p-value = {p:.4f}\")"
   ]
  },
  {
   "cell_type": "markdown",
   "id": "2ad40b84",
   "metadata": {},
   "source": [
    "There is one more indicator but I will come to it in the evaluation part"
   ]
  },
  {
   "cell_type": "markdown",
   "id": "9e38d148",
   "metadata": {},
   "source": [
    "#### Feature Selection"
   ]
  },
  {
   "cell_type": "markdown",
   "id": "18e1ee3e",
   "metadata": {},
   "source": [
    "I will keep all the features, as the last thing that is nice to see is the feature importances in the tree model "
   ]
  },
  {
   "cell_type": "code",
   "execution_count": 224,
   "id": "c66e5b62",
   "metadata": {},
   "outputs": [],
   "source": [
    "X_synthetic_stress = synthetic_stress[['achievement_satisfaction', 'irritation', 'hurry_to_finalize', 'self_doubt', 'rumination', 'emotional_repression', 'pessimism', 'disappointment_fretting', 'work_detachment', 'indecisiveness', 'easily_wound_up', 'loneliness', 'weather_mood', 'achievement_dissatisfaction', 'impatience', 'smoking', 'lack_confidence', 'unclear_thinking', 'rushed_work', 'poor_sleep', 'alcohol', 'relaxation_difficulty', 'poor_concentration', 'lack_exercise', 'noise_sensitivity', 'headaches', 'clammy_hands', 'criticism_sensitivity', 'panic_attacks', 'distrust', 'stomach_issues', 'people_pleasing', 'distractibility', 'easily_frightened', 'time_pressure']]\n",
    "y_synthetic_stress = synthetic_stress['StressLevel']"
   ]
  },
  {
   "cell_type": "markdown",
   "id": "0699c0ef",
   "metadata": {},
   "source": [
    "#### Train test split"
   ]
  },
  {
   "cell_type": "code",
   "execution_count": 225,
   "id": "ca07a8e2",
   "metadata": {},
   "outputs": [
    {
     "name": "stdout",
     "output_type": "stream",
     "text": [
      "There are in total 2500 observations, of which 2000 are now in the train set, and 500 in the test set.\n"
     ]
    }
   ],
   "source": [
    "# from sklearn.model_selection import StratifiedKFold\n",
    "# skf = StratifiedKFold(n_splits=5)\n",
    "# skf.get_n_splits(X_synthetic_stress, y_synthetic_stress)\n",
    "X_train, X_test, y_train, y_test = train_test_split(X_synthetic_stress, y_synthetic_stress, test_size=.2)\n",
    "print(\"There are in total\", len(X_synthetic_stress), \"observations, of which\", len(X_train), \"are now in the train set, and\", len(X_test), \"in the test set.\")"
   ]
  },
  {
   "cell_type": "markdown",
   "id": "bcf906cf",
   "metadata": {},
   "source": [
    "### Random Forest "
   ]
  },
  {
   "cell_type": "markdown",
   "id": "08e5e38c",
   "metadata": {},
   "source": [
    "#### Modeling"
   ]
  },
  {
   "cell_type": "code",
   "execution_count": 226,
   "id": "0da5cd70",
   "metadata": {},
   "outputs": [
    {
     "data": {
      "text/plain": [
       "0.736"
      ]
     },
     "execution_count": 226,
     "metadata": {},
     "output_type": "execute_result"
    }
   ],
   "source": [
    "# from statistics import mean\n",
    "\n",
    "# lst_accu_stratified = []\n",
    "# all_y_true = []\n",
    "# all_y_pred = []\n",
    "# model = RandomForestClassifier()\n",
    "\n",
    "# for train_index, test_index in skf.split(X_synthetic_stress, y_synthetic_stress):\n",
    "#     X_train, X_test = X_synthetic_stress.iloc[train_index], X_synthetic_stress.iloc[test_index]\n",
    "#     y_train, y_test = y_synthetic_stress.iloc[train_index], y_synthetic_stress.iloc[test_index]\n",
    "\n",
    "#     model.fit(X_train, y_train)\n",
    "#     y_pred = model.predict(X_test)\n",
    "\n",
    "#     lst_accu_stratified.append(model.score(X_test, y_test))\n",
    "\n",
    "#     all_y_true.extend(y_test)\n",
    "#     all_y_pred.extend(y_pred)\n",
    "\n",
    "# print('\\nOverall Accuracy:', mean(lst_accu_stratified)*100, '%')\n",
    "# print(\"\\nAggregated Classification Report (all folds):\")\n",
    "# print(classification_report(all_y_true, all_y_pred))\n",
    "\n",
    "model = RandomForestClassifier()\n",
    "model.fit(X_train, y_train)\n",
    "y_pred = model.predict(X_test)\n",
    "model.score(X_test, y_test)\n"
   ]
  },
  {
   "cell_type": "markdown",
   "id": "54f9cd80",
   "metadata": {},
   "source": [
    "The models accuracy has reached 75% which is relatively good, and can identify that the ways of seeing relations may be working"
   ]
  },
  {
   "cell_type": "markdown",
   "id": "501316d6",
   "metadata": {},
   "source": [
    "#### Evaluation"
   ]
  },
  {
   "cell_type": "code",
   "execution_count": 227,
   "id": "c65bc7f6",
   "metadata": {},
   "outputs": [
    {
     "data": {
      "image/png": "[encoded data removed]",
      "text/plain": [
       "<Figure size 4000x2000 with 1 Axes>"
      ]
     },
     "metadata": {},
     "output_type": "display_data"
    }
   ],
   "source": [
    "plt.figure(figsize=(40, 20))\n",
    "plot = sns.barplot(y=model.feature_importances_, x=synthetic_features)\n",
    "plt.show()"
   ]
  },
  {
   "cell_type": "markdown",
   "id": "dd49d5ea",
   "metadata": {},
   "source": [
    "As I have mentioned in the Preprocessing part, the last thing we can see when it comes to relation between the features and the target variable is the feature importance in a tree-like models. In the plot above it can be seen that each feature has played an important part in the decision, which is very good."
   ]
  },
  {
   "cell_type": "markdown",
   "id": "c794c091",
   "metadata": {},
   "source": [
    "### Clustering"
   ]
  },
  {
   "cell_type": "markdown",
   "id": "770acdb2",
   "metadata": {},
   "source": [
    "One thing that is nice to see is how does the clustering work in my project"
   ]
  },
  {
   "cell_type": "markdown",
   "id": "24accd48",
   "metadata": {},
   "source": [
    "#### Modeling "
   ]
  },
  {
   "cell_type": "markdown",
   "id": "83359da1",
   "metadata": {},
   "source": [
    "From some experiments with the Agglomerative Clustering, one thing that I have to tune is the number of clusters, as without this parameter the model founds 370 clusters, which is completely off."
   ]
  },
  {
   "cell_type": "code",
   "execution_count": 228,
   "id": "d8fc603d",
   "metadata": {},
   "outputs": [
    {
     "name": "stdout",
     "output_type": "stream",
     "text": [
      "Number of clusters:  3\n"
     ]
    }
   ],
   "source": [
    "from sklearn.cluster import AgglomerativeClustering\n",
    "\n",
    "agglom = AgglomerativeClustering(n_clusters=3, compute_distances=True)\n",
    "agglom.fit(X_synthetic_stress)\n",
    "\n",
    "print('Number of clusters: ',agglom.n_clusters_)"
   ]
  },
  {
   "cell_type": "code",
   "execution_count": 229,
   "id": "29d94d6d",
   "metadata": {},
   "outputs": [
    {
     "name": "stdout",
     "output_type": "stream",
     "text": [
      "[0 1 2]\n"
     ]
    }
   ],
   "source": [
    "print(np.unique(agglom.labels_))"
   ]
  },
  {
   "cell_type": "code",
   "execution_count": 230,
   "id": "d99acf77",
   "metadata": {},
   "outputs": [
    {
     "name": "stdout",
     "output_type": "stream",
     "text": [
      "2500\n"
     ]
    }
   ],
   "source": [
    "print(agglom.n_leaves_)"
   ]
  },
  {
   "cell_type": "markdown",
   "id": "584c300b",
   "metadata": {},
   "source": [
    "#### Evaluation"
   ]
  },
  {
   "cell_type": "markdown",
   "id": "5d902256",
   "metadata": {},
   "source": [
    "I have taken the code for plotting the dendogram from the Clustering exercise. It shows how the clusters were made "
   ]
  },
  {
   "cell_type": "code",
   "execution_count": 231,
   "id": "b3c3f6fd",
   "metadata": {},
   "outputs": [
    {
     "data": {
      "image/png": "[encoded data removed]",
      "text/plain": [
       "<Figure size 640x480 with 1 Axes>"
      ]
     },
     "metadata": {},
     "output_type": "display_data"
    }
   ],
   "source": [
    "from scipy.cluster.hierarchy import dendrogram\n",
    "\n",
    "def plot_dendrogram(model, **kwargs):\n",
    "    # Create linkage matrix and then plot the dendrogram\n",
    "\n",
    "    # create the counts of samples under each node\n",
    "    counts = np.zeros(model.children_.shape[0])\n",
    "    n_samples = len(model.labels_)\n",
    "    for i, merge in enumerate(model.children_):\n",
    "        current_count = 0\n",
    "        for child_idx in merge:\n",
    "            if child_idx < n_samples:\n",
    "                current_count += 1  # leaf node\n",
    "            else:\n",
    "                current_count += counts[child_idx - n_samples]\n",
    "        counts[i] = current_count\n",
    "\n",
    "    linkage_matrix = np.column_stack([model.children_, model.distances_,\n",
    "                                      counts]).astype(float)\n",
    "\n",
    "    # Plot the corresponding dendrogram\n",
    "    dendrogram(linkage_matrix, **kwargs)\n",
    "\n",
    "\n",
    "plt.title('Hierarchical Clustering Dendrogram')\n",
    "# plot the top three levels of the dendrogram\n",
    "plot_dendrogram(agglom, truncate_mode='level', p=3)\n",
    "plt.xlabel(\"Number of points in node (or index of point if no parenthesis).\")\n",
    "plt.show()"
   ]
  },
  {
   "cell_type": "code",
   "execution_count": 232,
   "id": "0c0e00e4",
   "metadata": {},
   "outputs": [
    {
     "data": {
      "application/vnd.microsoft.datawrangler.viewer.v0+json": {
       "columns": [
        {
         "name": "index",
         "rawType": "int64",
         "type": "integer"
        },
        {
         "name": "achievement_satisfaction",
         "rawType": "int64",
         "type": "integer"
        },
        {
         "name": "irritation",
         "rawType": "int64",
         "type": "integer"
        },
        {
         "name": "hurry_to_finalize",
         "rawType": "int64",
         "type": "integer"
        },
        {
         "name": "self_doubt",
         "rawType": "int64",
         "type": "integer"
        },
        {
         "name": "rumination",
         "rawType": "int64",
         "type": "integer"
        },
        {
         "name": "emotional_repression",
         "rawType": "int64",
         "type": "integer"
        },
        {
         "name": "pessimism",
         "rawType": "int64",
         "type": "integer"
        },
        {
         "name": "disappointment_fretting",
         "rawType": "int64",
         "type": "integer"
        },
        {
         "name": "work_detachment",
         "rawType": "int64",
         "type": "integer"
        },
        {
         "name": "indecisiveness",
         "rawType": "int64",
         "type": "integer"
        },
        {
         "name": "easily_wound_up",
         "rawType": "int64",
         "type": "integer"
        },
        {
         "name": "loneliness",
         "rawType": "int64",
         "type": "integer"
        },
        {
         "name": "weather_mood",
         "rawType": "int64",
         "type": "integer"
        },
        {
         "name": "achievement_dissatisfaction",
         "rawType": "int64",
         "type": "integer"
        },
        {
         "name": "impatience",
         "rawType": "int64",
         "type": "integer"
        },
        {
         "name": "smoking",
         "rawType": "int64",
         "type": "integer"
        },
        {
         "name": "lack_confidence",
         "rawType": "int64",
         "type": "integer"
        },
        {
         "name": "unclear_thinking",
         "rawType": "int64",
         "type": "integer"
        },
        {
         "name": "rushed_work",
         "rawType": "int64",
         "type": "integer"
        },
        {
         "name": "poor_sleep",
         "rawType": "int64",
         "type": "integer"
        },
        {
         "name": "alcohol",
         "rawType": "int64",
         "type": "integer"
        },
        {
         "name": "relaxation_difficulty",
         "rawType": "int64",
         "type": "integer"
        },
        {
         "name": "poor_concentration",
         "rawType": "int64",
         "type": "integer"
        },
        {
         "name": "lack_exercise",
         "rawType": "int64",
         "type": "integer"
        },
        {
         "name": "noise_sensitivity",
         "rawType": "int64",
         "type": "integer"
        },
        {
         "name": "headaches",
         "rawType": "int64",
         "type": "integer"
        },
        {
         "name": "clammy_hands",
         "rawType": "int64",
         "type": "integer"
        },
        {
         "name": "criticism_sensitivity",
         "rawType": "int64",
         "type": "integer"
        },
        {
         "name": "panic_attacks",
         "rawType": "int64",
         "type": "integer"
        },
        {
         "name": "distrust",
         "rawType": "int64",
         "type": "integer"
        },
        {
         "name": "stomach_issues",
         "rawType": "int64",
         "type": "integer"
        },
        {
         "name": "people_pleasing",
         "rawType": "int64",
         "type": "integer"
        },
        {
         "name": "distractibility",
         "rawType": "int64",
         "type": "integer"
        },
        {
         "name": "easily_frightened",
         "rawType": "int64",
         "type": "integer"
        },
        {
         "name": "time_pressure",
         "rawType": "int64",
         "type": "integer"
        },
        {
         "name": "StressLevel",
         "rawType": "int64",
         "type": "integer"
        },
        {
         "name": "Cluster",
         "rawType": "object",
         "type": "string"
        }
       ],
       "conversionMethod": "pd.DataFrame",
       "ref": "228925bf-264e-477a-ba1a-6168391af613",
       "rows": [
        [
         "0",
         "1",
         "2",
         "0",
         "2",
         "0",
         "2",
         "0",
         "2",
         "0",
         "0",
         "1",
         "3",
         "1",
         "3",
         "1",
         "0",
         "1",
         "1",
         "2",
         "1",
         "1",
         "2",
         "0",
         "2",
         "1",
         "2",
         "3",
         "3",
         "1",
         "2",
         "3",
         "3",
         "2",
         "2",
         "2",
         "2",
         "Cluster 1"
        ],
        [
         "1",
         "1",
         "0",
         "2",
         "1",
         "1",
         "0",
         "0",
         "0",
         "1",
         "0",
         "2",
         "2",
         "2",
         "1",
         "0",
         "1",
         "0",
         "0",
         "0",
         "0",
         "0",
         "2",
         "3",
         "0",
         "2",
         "2",
         "2",
         "1",
         "0",
         "2",
         "2",
         "2",
         "1",
         "0",
         "0",
         "0",
         "Cluster 0"
        ],
        [
         "2",
         "1",
         "1",
         "0",
         "1",
         "2",
         "3",
         "2",
         "1",
         "2",
         "2",
         "1",
         "1",
         "1",
         "2",
         "1",
         "2",
         "3",
         "0",
         "2",
         "1",
         "2",
         "3",
         "0",
         "0",
         "2",
         "0",
         "3",
         "2",
         "2",
         "3",
         "0",
         "3",
         "3",
         "3",
         "2",
         "2",
         "Cluster 0"
        ],
        [
         "3",
         "3",
         "1",
         "1",
         "0",
         "1",
         "1",
         "1",
         "2",
         "2",
         "2",
         "1",
         "0",
         "2",
         "3",
         "2",
         "2",
         "1",
         "1",
         "2",
         "1",
         "2",
         "1",
         "2",
         "1",
         "3",
         "0",
         "0",
         "3",
         "1",
         "3",
         "0",
         "1",
         "1",
         "1",
         "3",
         "2",
         "Cluster 1"
        ],
        [
         "4",
         "2",
         "1",
         "3",
         "1",
         "2",
         "1",
         "2",
         "1",
         "2",
         "2",
         "0",
         "1",
         "1",
         "0",
         "3",
         "2",
         "3",
         "0",
         "3",
         "1",
         "1",
         "2",
         "0",
         "1",
         "1",
         "0",
         "1",
         "2",
         "2",
         "0",
         "2",
         "3",
         "0",
         "3",
         "1",
         "2",
         "Cluster 1"
        ]
       ],
       "shape": {
        "columns": 37,
        "rows": 5
       }
      },
      "text/html": [
       "<div>\n",
       "<style scoped>\n",
       "    .dataframe tbody tr th:only-of-type {\n",
       "        vertical-align: middle;\n",
       "    }\n",
       "\n",
       "    .dataframe tbody tr th {\n",
       "        vertical-align: top;\n",
       "    }\n",
       "\n",
       "    .dataframe thead th {\n",
       "        text-align: right;\n",
       "    }\n",
       "</style>\n",
       "<table border=\"1\" class=\"dataframe\">\n",
       "  <thead>\n",
       "    <tr style=\"text-align: right;\">\n",
       "      <th></th>\n",
       "      <th>achievement_satisfaction</th>\n",
       "      <th>irritation</th>\n",
       "      <th>hurry_to_finalize</th>\n",
       "      <th>self_doubt</th>\n",
       "      <th>rumination</th>\n",
       "      <th>emotional_repression</th>\n",
       "      <th>pessimism</th>\n",
       "      <th>disappointment_fretting</th>\n",
       "      <th>work_detachment</th>\n",
       "      <th>indecisiveness</th>\n",
       "      <th>...</th>\n",
       "      <th>criticism_sensitivity</th>\n",
       "      <th>panic_attacks</th>\n",
       "      <th>distrust</th>\n",
       "      <th>stomach_issues</th>\n",
       "      <th>people_pleasing</th>\n",
       "      <th>distractibility</th>\n",
       "      <th>easily_frightened</th>\n",
       "      <th>time_pressure</th>\n",
       "      <th>StressLevel</th>\n",
       "      <th>Cluster</th>\n",
       "    </tr>\n",
       "  </thead>\n",
       "  <tbody>\n",
       "    <tr>\n",
       "      <th>0</th>\n",
       "      <td>1</td>\n",
       "      <td>2</td>\n",
       "      <td>0</td>\n",
       "      <td>2</td>\n",
       "      <td>0</td>\n",
       "      <td>2</td>\n",
       "      <td>0</td>\n",
       "      <td>2</td>\n",
       "      <td>0</td>\n",
       "      <td>0</td>\n",
       "      <td>...</td>\n",
       "      <td>3</td>\n",
       "      <td>1</td>\n",
       "      <td>2</td>\n",
       "      <td>3</td>\n",
       "      <td>3</td>\n",
       "      <td>2</td>\n",
       "      <td>2</td>\n",
       "      <td>2</td>\n",
       "      <td>2</td>\n",
       "      <td>Cluster 1</td>\n",
       "    </tr>\n",
       "    <tr>\n",
       "      <th>1</th>\n",
       "      <td>1</td>\n",
       "      <td>0</td>\n",
       "      <td>2</td>\n",
       "      <td>1</td>\n",
       "      <td>1</td>\n",
       "      <td>0</td>\n",
       "      <td>0</td>\n",
       "      <td>0</td>\n",
       "      <td>1</td>\n",
       "      <td>0</td>\n",
       "      <td>...</td>\n",
       "      <td>1</td>\n",
       "      <td>0</td>\n",
       "      <td>2</td>\n",
       "      <td>2</td>\n",
       "      <td>2</td>\n",
       "      <td>1</td>\n",
       "      <td>0</td>\n",
       "      <td>0</td>\n",
       "      <td>0</td>\n",
       "      <td>Cluster 0</td>\n",
       "    </tr>\n",
       "    <tr>\n",
       "      <th>2</th>\n",
       "      <td>1</td>\n",
       "      <td>1</td>\n",
       "      <td>0</td>\n",
       "      <td>1</td>\n",
       "      <td>2</td>\n",
       "      <td>3</td>\n",
       "      <td>2</td>\n",
       "      <td>1</td>\n",
       "      <td>2</td>\n",
       "      <td>2</td>\n",
       "      <td>...</td>\n",
       "      <td>2</td>\n",
       "      <td>2</td>\n",
       "      <td>3</td>\n",
       "      <td>0</td>\n",
       "      <td>3</td>\n",
       "      <td>3</td>\n",
       "      <td>3</td>\n",
       "      <td>2</td>\n",
       "      <td>2</td>\n",
       "      <td>Cluster 0</td>\n",
       "    </tr>\n",
       "    <tr>\n",
       "      <th>3</th>\n",
       "      <td>3</td>\n",
       "      <td>1</td>\n",
       "      <td>1</td>\n",
       "      <td>0</td>\n",
       "      <td>1</td>\n",
       "      <td>1</td>\n",
       "      <td>1</td>\n",
       "      <td>2</td>\n",
       "      <td>2</td>\n",
       "      <td>2</td>\n",
       "      <td>...</td>\n",
       "      <td>3</td>\n",
       "      <td>1</td>\n",
       "      <td>3</td>\n",
       "      <td>0</td>\n",
       "      <td>1</td>\n",
       "      <td>1</td>\n",
       "      <td>1</td>\n",
       "      <td>3</td>\n",
       "      <td>2</td>\n",
       "      <td>Cluster 1</td>\n",
       "    </tr>\n",
       "    <tr>\n",
       "      <th>4</th>\n",
       "      <td>2</td>\n",
       "      <td>1</td>\n",
       "      <td>3</td>\n",
       "      <td>1</td>\n",
       "      <td>2</td>\n",
       "      <td>1</td>\n",
       "      <td>2</td>\n",
       "      <td>1</td>\n",
       "      <td>2</td>\n",
       "      <td>2</td>\n",
       "      <td>...</td>\n",
       "      <td>2</td>\n",
       "      <td>2</td>\n",
       "      <td>0</td>\n",
       "      <td>2</td>\n",
       "      <td>3</td>\n",
       "      <td>0</td>\n",
       "      <td>3</td>\n",
       "      <td>1</td>\n",
       "      <td>2</td>\n",
       "      <td>Cluster 1</td>\n",
       "    </tr>\n",
       "  </tbody>\n",
       "</table>\n",
       "<p>5 rows × 37 columns</p>\n",
       "</div>"
      ],
      "text/plain": [
       "   achievement_satisfaction  irritation  hurry_to_finalize  self_doubt  \\\n",
       "0                         1           2                  0           2   \n",
       "1                         1           0                  2           1   \n",
       "2                         1           1                  0           1   \n",
       "3                         3           1                  1           0   \n",
       "4                         2           1                  3           1   \n",
       "\n",
       "   rumination  emotional_repression  pessimism  disappointment_fretting  \\\n",
       "0           0                     2          0                        2   \n",
       "1           1                     0          0                        0   \n",
       "2           2                     3          2                        1   \n",
       "3           1                     1          1                        2   \n",
       "4           2                     1          2                        1   \n",
       "\n",
       "   work_detachment  indecisiveness  ...  criticism_sensitivity  panic_attacks  \\\n",
       "0                0               0  ...                      3              1   \n",
       "1                1               0  ...                      1              0   \n",
       "2                2               2  ...                      2              2   \n",
       "3                2               2  ...                      3              1   \n",
       "4                2               2  ...                      2              2   \n",
       "\n",
       "   distrust  stomach_issues  people_pleasing  distractibility  \\\n",
       "0         2               3                3                2   \n",
       "1         2               2                2                1   \n",
       "2         3               0                3                3   \n",
       "3         3               0                1                1   \n",
       "4         0               2                3                0   \n",
       "\n",
       "   easily_frightened  time_pressure  StressLevel    Cluster  \n",
       "0                  2              2            2  Cluster 1  \n",
       "1                  0              0            0  Cluster 0  \n",
       "2                  3              2            2  Cluster 0  \n",
       "3                  1              3            2  Cluster 1  \n",
       "4                  3              1            2  Cluster 1  \n",
       "\n",
       "[5 rows x 37 columns]"
      ]
     },
     "execution_count": 232,
     "metadata": {},
     "output_type": "execute_result"
    }
   ],
   "source": [
    "synthetic_stress['Cluster'] = agglom.labels_.astype(str)\n",
    "synthetic_stress['Cluster'] = 'Cluster ' + synthetic_stress['Cluster']\n",
    "synthetic_stress.head(5)"
   ]
  },
  {
   "cell_type": "code",
   "execution_count": 233,
   "id": "139cfbde",
   "metadata": {},
   "outputs": [
    {
     "data": {
      "application/vnd.microsoft.datawrangler.viewer.v0+json": {
       "columns": [
        {
         "name": "index",
         "rawType": "int64",
         "type": "integer"
        },
        {
         "name": "achievement_satisfaction",
         "rawType": "int64",
         "type": "integer"
        },
        {
         "name": "irritation",
         "rawType": "int64",
         "type": "integer"
        },
        {
         "name": "hurry_to_finalize",
         "rawType": "int64",
         "type": "integer"
        },
        {
         "name": "self_doubt",
         "rawType": "int64",
         "type": "integer"
        },
        {
         "name": "rumination",
         "rawType": "int64",
         "type": "integer"
        },
        {
         "name": "emotional_repression",
         "rawType": "int64",
         "type": "integer"
        },
        {
         "name": "pessimism",
         "rawType": "int64",
         "type": "integer"
        },
        {
         "name": "disappointment_fretting",
         "rawType": "int64",
         "type": "integer"
        },
        {
         "name": "work_detachment",
         "rawType": "int64",
         "type": "integer"
        },
        {
         "name": "indecisiveness",
         "rawType": "int64",
         "type": "integer"
        },
        {
         "name": "easily_wound_up",
         "rawType": "int64",
         "type": "integer"
        },
        {
         "name": "loneliness",
         "rawType": "int64",
         "type": "integer"
        },
        {
         "name": "weather_mood",
         "rawType": "int64",
         "type": "integer"
        },
        {
         "name": "achievement_dissatisfaction",
         "rawType": "int64",
         "type": "integer"
        },
        {
         "name": "impatience",
         "rawType": "int64",
         "type": "integer"
        },
        {
         "name": "smoking",
         "rawType": "int64",
         "type": "integer"
        },
        {
         "name": "lack_confidence",
         "rawType": "int64",
         "type": "integer"
        },
        {
         "name": "unclear_thinking",
         "rawType": "int64",
         "type": "integer"
        },
        {
         "name": "rushed_work",
         "rawType": "int64",
         "type": "integer"
        },
        {
         "name": "poor_sleep",
         "rawType": "int64",
         "type": "integer"
        },
        {
         "name": "alcohol",
         "rawType": "int64",
         "type": "integer"
        },
        {
         "name": "relaxation_difficulty",
         "rawType": "int64",
         "type": "integer"
        },
        {
         "name": "poor_concentration",
         "rawType": "int64",
         "type": "integer"
        },
        {
         "name": "lack_exercise",
         "rawType": "int64",
         "type": "integer"
        },
        {
         "name": "noise_sensitivity",
         "rawType": "int64",
         "type": "integer"
        },
        {
         "name": "headaches",
         "rawType": "int64",
         "type": "integer"
        },
        {
         "name": "clammy_hands",
         "rawType": "int64",
         "type": "integer"
        },
        {
         "name": "criticism_sensitivity",
         "rawType": "int64",
         "type": "integer"
        },
        {
         "name": "panic_attacks",
         "rawType": "int64",
         "type": "integer"
        },
        {
         "name": "distrust",
         "rawType": "int64",
         "type": "integer"
        },
        {
         "name": "stomach_issues",
         "rawType": "int64",
         "type": "integer"
        },
        {
         "name": "people_pleasing",
         "rawType": "int64",
         "type": "integer"
        },
        {
         "name": "distractibility",
         "rawType": "int64",
         "type": "integer"
        },
        {
         "name": "easily_frightened",
         "rawType": "int64",
         "type": "integer"
        },
        {
         "name": "time_pressure",
         "rawType": "int64",
         "type": "integer"
        },
        {
         "name": "StressLevel",
         "rawType": "int64",
         "type": "integer"
        },
        {
         "name": "Cluster",
         "rawType": "object",
         "type": "string"
        }
       ],
       "conversionMethod": "pd.DataFrame",
       "ref": "2f31f8bc-5de5-4849-acbe-df335087f6ac",
       "rows": [
        [
         "2495",
         "1",
         "3",
         "0",
         "1",
         "3",
         "0",
         "1",
         "2",
         "2",
         "2",
         "1",
         "1",
         "2",
         "2",
         "2",
         "1",
         "1",
         "3",
         "3",
         "2",
         "1",
         "2",
         "1",
         "3",
         "0",
         "0",
         "0",
         "1",
         "3",
         "1",
         "0",
         "0",
         "1",
         "1",
         "1",
         "1",
         "Cluster 1"
        ],
        [
         "2496",
         "0",
         "0",
         "1",
         "1",
         "0",
         "3",
         "0",
         "2",
         "1",
         "0",
         "0",
         "1",
         "3",
         "1",
         "1",
         "1",
         "0",
         "1",
         "1",
         "3",
         "3",
         "2",
         "0",
         "0",
         "1",
         "0",
         "2",
         "3",
         "0",
         "0",
         "1",
         "3",
         "3",
         "3",
         "1",
         "1",
         "Cluster 1"
        ],
        [
         "2497",
         "1",
         "3",
         "2",
         "2",
         "3",
         "1",
         "0",
         "2",
         "0",
         "1",
         "0",
         "1",
         "0",
         "1",
         "1",
         "0",
         "3",
         "2",
         "2",
         "2",
         "0",
         "0",
         "0",
         "0",
         "0",
         "2",
         "0",
         "1",
         "2",
         "0",
         "2",
         "0",
         "2",
         "1",
         "2",
         "1",
         "Cluster 0"
        ],
        [
         "2498",
         "3",
         "3",
         "2",
         "0",
         "0",
         "0",
         "0",
         "1",
         "2",
         "1",
         "0",
         "3",
         "2",
         "3",
         "3",
         "3",
         "0",
         "3",
         "1",
         "1",
         "1",
         "2",
         "1",
         "3",
         "2",
         "0",
         "1",
         "2",
         "2",
         "1",
         "2",
         "3",
         "1",
         "0",
         "1",
         "2",
         "Cluster 0"
        ],
        [
         "2499",
         "2",
         "3",
         "3",
         "2",
         "1",
         "1",
         "1",
         "3",
         "1",
         "2",
         "2",
         "3",
         "2",
         "1",
         "2",
         "2",
         "1",
         "0",
         "2",
         "2",
         "3",
         "1",
         "0",
         "0",
         "0",
         "0",
         "3",
         "0",
         "3",
         "3",
         "1",
         "3",
         "2",
         "3",
         "2",
         "2",
         "Cluster 0"
        ]
       ],
       "shape": {
        "columns": 37,
        "rows": 5
       }
      },
      "text/html": [
       "<div>\n",
       "<style scoped>\n",
       "    .dataframe tbody tr th:only-of-type {\n",
       "        vertical-align: middle;\n",
       "    }\n",
       "\n",
       "    .dataframe tbody tr th {\n",
       "        vertical-align: top;\n",
       "    }\n",
       "\n",
       "    .dataframe thead th {\n",
       "        text-align: right;\n",
       "    }\n",
       "</style>\n",
       "<table border=\"1\" class=\"dataframe\">\n",
       "  <thead>\n",
       "    <tr style=\"text-align: right;\">\n",
       "      <th></th>\n",
       "      <th>achievement_satisfaction</th>\n",
       "      <th>irritation</th>\n",
       "      <th>hurry_to_finalize</th>\n",
       "      <th>self_doubt</th>\n",
       "      <th>rumination</th>\n",
       "      <th>emotional_repression</th>\n",
       "      <th>pessimism</th>\n",
       "      <th>disappointment_fretting</th>\n",
       "      <th>work_detachment</th>\n",
       "      <th>indecisiveness</th>\n",
       "      <th>...</th>\n",
       "      <th>criticism_sensitivity</th>\n",
       "      <th>panic_attacks</th>\n",
       "      <th>distrust</th>\n",
       "      <th>stomach_issues</th>\n",
       "      <th>people_pleasing</th>\n",
       "      <th>distractibility</th>\n",
       "      <th>easily_frightened</th>\n",
       "      <th>time_pressure</th>\n",
       "      <th>StressLevel</th>\n",
       "      <th>Cluster</th>\n",
       "    </tr>\n",
       "  </thead>\n",
       "  <tbody>\n",
       "    <tr>\n",
       "      <th>2495</th>\n",
       "      <td>1</td>\n",
       "      <td>3</td>\n",
       "      <td>0</td>\n",
       "      <td>1</td>\n",
       "      <td>3</td>\n",
       "      <td>0</td>\n",
       "      <td>1</td>\n",
       "      <td>2</td>\n",
       "      <td>2</td>\n",
       "      <td>2</td>\n",
       "      <td>...</td>\n",
       "      <td>1</td>\n",
       "      <td>3</td>\n",
       "      <td>1</td>\n",
       "      <td>0</td>\n",
       "      <td>0</td>\n",
       "      <td>1</td>\n",
       "      <td>1</td>\n",
       "      <td>1</td>\n",
       "      <td>1</td>\n",
       "      <td>Cluster 1</td>\n",
       "    </tr>\n",
       "    <tr>\n",
       "      <th>2496</th>\n",
       "      <td>0</td>\n",
       "      <td>0</td>\n",
       "      <td>1</td>\n",
       "      <td>1</td>\n",
       "      <td>0</td>\n",
       "      <td>3</td>\n",
       "      <td>0</td>\n",
       "      <td>2</td>\n",
       "      <td>1</td>\n",
       "      <td>0</td>\n",
       "      <td>...</td>\n",
       "      <td>3</td>\n",
       "      <td>0</td>\n",
       "      <td>0</td>\n",
       "      <td>1</td>\n",
       "      <td>3</td>\n",
       "      <td>3</td>\n",
       "      <td>3</td>\n",
       "      <td>1</td>\n",
       "      <td>1</td>\n",
       "      <td>Cluster 1</td>\n",
       "    </tr>\n",
       "    <tr>\n",
       "      <th>2497</th>\n",
       "      <td>1</td>\n",
       "      <td>3</td>\n",
       "      <td>2</td>\n",
       "      <td>2</td>\n",
       "      <td>3</td>\n",
       "      <td>1</td>\n",
       "      <td>0</td>\n",
       "      <td>2</td>\n",
       "      <td>0</td>\n",
       "      <td>1</td>\n",
       "      <td>...</td>\n",
       "      <td>1</td>\n",
       "      <td>2</td>\n",
       "      <td>0</td>\n",
       "      <td>2</td>\n",
       "      <td>0</td>\n",
       "      <td>2</td>\n",
       "      <td>1</td>\n",
       "      <td>2</td>\n",
       "      <td>1</td>\n",
       "      <td>Cluster 0</td>\n",
       "    </tr>\n",
       "    <tr>\n",
       "      <th>2498</th>\n",
       "      <td>3</td>\n",
       "      <td>3</td>\n",
       "      <td>2</td>\n",
       "      <td>0</td>\n",
       "      <td>0</td>\n",
       "      <td>0</td>\n",
       "      <td>0</td>\n",
       "      <td>1</td>\n",
       "      <td>2</td>\n",
       "      <td>1</td>\n",
       "      <td>...</td>\n",
       "      <td>2</td>\n",
       "      <td>2</td>\n",
       "      <td>1</td>\n",
       "      <td>2</td>\n",
       "      <td>3</td>\n",
       "      <td>1</td>\n",
       "      <td>0</td>\n",
       "      <td>1</td>\n",
       "      <td>2</td>\n",
       "      <td>Cluster 0</td>\n",
       "    </tr>\n",
       "    <tr>\n",
       "      <th>2499</th>\n",
       "      <td>2</td>\n",
       "      <td>3</td>\n",
       "      <td>3</td>\n",
       "      <td>2</td>\n",
       "      <td>1</td>\n",
       "      <td>1</td>\n",
       "      <td>1</td>\n",
       "      <td>3</td>\n",
       "      <td>1</td>\n",
       "      <td>2</td>\n",
       "      <td>...</td>\n",
       "      <td>0</td>\n",
       "      <td>3</td>\n",
       "      <td>3</td>\n",
       "      <td>1</td>\n",
       "      <td>3</td>\n",
       "      <td>2</td>\n",
       "      <td>3</td>\n",
       "      <td>2</td>\n",
       "      <td>2</td>\n",
       "      <td>Cluster 0</td>\n",
       "    </tr>\n",
       "  </tbody>\n",
       "</table>\n",
       "<p>5 rows × 37 columns</p>\n",
       "</div>"
      ],
      "text/plain": [
       "      achievement_satisfaction  irritation  hurry_to_finalize  self_doubt  \\\n",
       "2495                         1           3                  0           1   \n",
       "2496                         0           0                  1           1   \n",
       "2497                         1           3                  2           2   \n",
       "2498                         3           3                  2           0   \n",
       "2499                         2           3                  3           2   \n",
       "\n",
       "      rumination  emotional_repression  pessimism  disappointment_fretting  \\\n",
       "2495           3                     0          1                        2   \n",
       "2496           0                     3          0                        2   \n",
       "2497           3                     1          0                        2   \n",
       "2498           0                     0          0                        1   \n",
       "2499           1                     1          1                        3   \n",
       "\n",
       "      work_detachment  indecisiveness  ...  criticism_sensitivity  \\\n",
       "2495                2               2  ...                      1   \n",
       "2496                1               0  ...                      3   \n",
       "2497                0               1  ...                      1   \n",
       "2498                2               1  ...                      2   \n",
       "2499                1               2  ...                      0   \n",
       "\n",
       "      panic_attacks  distrust  stomach_issues  people_pleasing  \\\n",
       "2495              3         1               0                0   \n",
       "2496              0         0               1                3   \n",
       "2497              2         0               2                0   \n",
       "2498              2         1               2                3   \n",
       "2499              3         3               1                3   \n",
       "\n",
       "      distractibility  easily_frightened  time_pressure  StressLevel  \\\n",
       "2495                1                  1              1            1   \n",
       "2496                3                  3              1            1   \n",
       "2497                2                  1              2            1   \n",
       "2498                1                  0              1            2   \n",
       "2499                2                  3              2            2   \n",
       "\n",
       "        Cluster  \n",
       "2495  Cluster 1  \n",
       "2496  Cluster 1  \n",
       "2497  Cluster 0  \n",
       "2498  Cluster 0  \n",
       "2499  Cluster 0  \n",
       "\n",
       "[5 rows x 37 columns]"
      ]
     },
     "execution_count": 233,
     "metadata": {},
     "output_type": "execute_result"
    }
   ],
   "source": [
    "synthetic_stress.tail(5)"
   ]
  },
  {
   "cell_type": "code",
   "execution_count": 234,
   "id": "bed0a5a4",
   "metadata": {},
   "outputs": [
    {
     "data": {
      "image/png": "[encoded data removed]",
      "text/plain": [
       "<Figure size 640x480 with 1 Axes>"
      ]
     },
     "metadata": {},
     "output_type": "display_data"
    }
   ],
   "source": [
    "# Define labels for species\n",
    "species = synthetic_stress['StressLevel'].unique()\n",
    "\n",
    "# Define labels for clusters\n",
    "clusters = synthetic_stress['Cluster'].unique()\n",
    "\n",
    "# Sort cluster names in alphabetical order, i.e.,\n",
    "# Cluster 0, Cluster 1, Cluster 2, etc.\n",
    "clusters.sort()\n",
    "\n",
    "# Determine the location for cluster labels \n",
    "x = np.arange(len(clusters))\n",
    "\n",
    "# Define the width of the bars\n",
    "width = 0.25\n",
    "\n",
    "# Create the bar plot\n",
    "fig, ax = plt.subplots()\n",
    "offset = -width\n",
    "for spec in species:\n",
    "    nr_occurrences = []\n",
    "    for clus in clusters:\n",
    "        nr = synthetic_stress[(synthetic_stress['StressLevel']==spec) & (synthetic_stress['Cluster']==clus)]['Cluster'].count()\n",
    "        nr_occurrences.append(nr)\n",
    "    rects = ax.bar(x + offset, nr_occurrences, width, label=spec)\n",
    "    offset = offset + width\n",
    "\n",
    "# Add text for labels, title and custom x-axis tick labels, etc.\n",
    "ax.set_ylabel('Number of occurrences')\n",
    "ax.set_title('Number of occurrences in cluster')\n",
    "ax.set_xticks(x)\n",
    "ax.set_xticklabels(clusters)\n",
    "ax.legend()\n",
    "\n",
    "fig.tight_layout()\n",
    "plt.show()"
   ]
  },
  {
   "cell_type": "code",
   "execution_count": 235,
   "id": "9f0b1276",
   "metadata": {},
   "outputs": [
    {
     "name": "stdout",
     "output_type": "stream",
     "text": [
      "StressLevel\n",
      "1    1766\n",
      "2     670\n",
      "0      64\n",
      "Name: count, dtype: int64\n",
      "Cluster\n",
      "Cluster 0    1215\n",
      "Cluster 1     899\n",
      "Cluster 2     386\n",
      "Name: count, dtype: int64\n",
      "Number of samples per cluster for 1\n",
      "Cluster\n",
      "Cluster 0    856\n",
      "Cluster 1    642\n",
      "Cluster 2    268\n",
      "Name: count, dtype: int64\n",
      "Number of samples per cluster for 1\n",
      "Cluster\n",
      "Cluster 0    856\n",
      "Cluster 1    642\n",
      "Cluster 2    268\n",
      "Name: count, dtype: int64\n",
      "Number of samples per cluster for 1\n",
      "Cluster\n",
      "Cluster 0    856\n",
      "Cluster 1    642\n",
      "Cluster 2    268\n",
      "Name: count, dtype: int64\n"
     ]
    }
   ],
   "source": [
    "print(synthetic_stress['StressLevel'].value_counts())\n",
    "print(synthetic_stress['Cluster'].value_counts())\n",
    "\n",
    "levels = synthetic_stress['StressLevel'].unique()\n",
    "for level in levels:\n",
    "    print('Number of samples per cluster for',spec)\n",
    "    print(synthetic_stress[synthetic_stress['StressLevel']==spec]['Cluster'].value_counts())"
   ]
  },
  {
   "cell_type": "markdown",
   "id": "91afcd99",
   "metadata": {},
   "source": [
    "### Decision Tree Classifier"
   ]
  },
  {
   "cell_type": "markdown",
   "id": "a229a5a4",
   "metadata": {},
   "source": [
    "#### Modeling"
   ]
  },
  {
   "cell_type": "code",
   "execution_count": 236,
   "id": "a4289894",
   "metadata": {},
   "outputs": [
    {
     "name": "stdout",
     "output_type": "stream",
     "text": [
      "Accuracy: 0.674\n"
     ]
    }
   ],
   "source": [
    "model = DecisionTreeClassifier(max_depth=5)\n",
    "model.fit(X_train, y_train)\n",
    "score = model.score(X_test, y_test)\n",
    "print(\"Accuracy:\", score)"
   ]
  },
  {
   "cell_type": "markdown",
   "id": "304935e5",
   "metadata": {},
   "source": [
    "#### Evaluation"
   ]
  },
  {
   "cell_type": "code",
   "execution_count": 237,
   "id": "509d454a",
   "metadata": {},
   "outputs": [
    {
     "data": {
      "image/png": "[encoded data removed]",
      "text/plain": [
       "<Figure size 4000x2000 with 1 Axes>"
      ]
     },
     "metadata": {},
     "output_type": "display_data"
    }
   ],
   "source": [
    "plt.figure(figsize=(40, 20))\n",
    "plot = sns.barplot(y=model.feature_importances_, x=synthetic_features)\n",
    "plt.show()"
   ]
  },
  {
   "cell_type": "code",
   "execution_count": 238,
   "id": "9c1a537e",
   "metadata": {},
   "outputs": [
    {
     "data": {
      "image/png": "[encoded data removed]",
      "text/plain": [
       "<Figure size 1800x1800 with 1 Axes>"
      ]
     },
     "metadata": {},
     "output_type": "display_data"
    }
   ],
   "source": [
    "target_names = [\"0\", \"1\", \"2\"]\n",
    "import matplotlib.pyplot as plt\n",
    "plt.figure(figsize=(18,18))\n",
    "from sklearn.tree import plot_tree\n",
    "plot_tree(model, fontsize=8, feature_names=synthetic_features, class_names=target_names)\n",
    "plt.show()"
   ]
  },
  {
   "cell_type": "code",
   "execution_count": 239,
   "id": "97bf1251",
   "metadata": {},
   "outputs": [
    {
     "name": "stdout",
     "output_type": "stream",
     "text": [
      "              precision    recall  f1-score   support\n",
      "\n",
      "           0       0.00      0.00      0.00        13\n",
      "           1       0.71      0.89      0.79       344\n",
      "           2       0.45      0.22      0.30       143\n",
      "\n",
      "    accuracy                           0.67       500\n",
      "   macro avg       0.39      0.37      0.36       500\n",
      "weighted avg       0.62      0.67      0.63       500\n",
      "\n"
     ]
    },
    {
     "name": "stderr",
     "output_type": "stream",
     "text": [
      "c:\\Users\\ivanb\\AppData\\Local\\Programs\\Python\\Python313\\Lib\\site-packages\\sklearn\\metrics\\_classification.py:1565: UndefinedMetricWarning: Precision is ill-defined and being set to 0.0 in labels with no predicted samples. Use `zero_division` parameter to control this behavior.\n",
      "  _warn_prf(average, modifier, f\"{metric.capitalize()} is\", len(result))\n",
      "c:\\Users\\ivanb\\AppData\\Local\\Programs\\Python\\Python313\\Lib\\site-packages\\sklearn\\metrics\\_classification.py:1565: UndefinedMetricWarning: Precision is ill-defined and being set to 0.0 in labels with no predicted samples. Use `zero_division` parameter to control this behavior.\n",
      "  _warn_prf(average, modifier, f\"{metric.capitalize()} is\", len(result))\n",
      "c:\\Users\\ivanb\\AppData\\Local\\Programs\\Python\\Python313\\Lib\\site-packages\\sklearn\\metrics\\_classification.py:1565: UndefinedMetricWarning: Precision is ill-defined and being set to 0.0 in labels with no predicted samples. Use `zero_division` parameter to control this behavior.\n",
      "  _warn_prf(average, modifier, f\"{metric.capitalize()} is\", len(result))\n"
     ]
    }
   ],
   "source": [
    "predictions = model.predict(X_test)\n",
    "report = classification_report(y_test, predictions)\n",
    "print(report)"
   ]
  },
  {
   "cell_type": "markdown",
   "id": "b3cacf4e",
   "metadata": {},
   "source": [
    "#### Inference"
   ]
  },
  {
   "cell_type": "markdown",
   "id": "fe7eb39b",
   "metadata": {},
   "source": [
    "## Fontys Student Stress Survey"
   ]
  },
  {
   "cell_type": "markdown",
   "id": "2981aca8",
   "metadata": {},
   "source": [
    "From my iteration 0 and Synthetic Dataset part I have made a google form and posted it to Fontys students: https://docs.google.com/forms/d/e/1FAIpQLSe1NUOqiga-TfrjSjefwqrSNO9Jr5bqO_mSAaaqc8q0OSme9g/viewform?usp=sharing\n",
    "\n",
    "The form is connected to a google sheet, from where I will get the data"
   ]
  },
  {
   "cell_type": "markdown",
   "id": "ab91e159",
   "metadata": {},
   "source": [
    "### Data Provisioning"
   ]
  },
  {
   "cell_type": "markdown",
   "id": "4039c6b3",
   "metadata": {},
   "source": [
    "In order to get the data from google sheets to python I have followed a video on youtube (https://www.youtube.com/watch?v=hyUw-koO2DA)"
   ]
  },
  {
   "cell_type": "code",
   "execution_count": 240,
   "id": "3ab393b7",
   "metadata": {},
   "outputs": [
    {
     "name": "stdout",
     "output_type": "stream",
     "text": [
      "         Позначка часу  \\\n",
      "0  25.04.2025 03:11:16   \n",
      "1  25.04.2025 03:41:40   \n",
      "\n",
      "   How much time do you spend on studying daily? (in hours)  \\\n",
      "0                                           2.333333          \n",
      "1                                           6.000000          \n",
      "\n",
      "  Would you like to pursue a career based on your profile/specialization?  \\\n",
      "0                                               100%                        \n",
      "1                                               100%                        \n",
      "\n",
      "  Do you have a part time job?  How many hours do you usually sleep?  \\\n",
      "0                          Yes                                     6   \n",
      "1                          Yes                                     5   \n",
      "\n",
      "  How would you describe your diet?  \\\n",
      "0                           Average   \n",
      "1                           Healthy   \n",
      "\n",
      "   How much time do you spend on physical activities daily (general exercises, any sport counts)?  \\\n",
      "0                                                  2                                                \n",
      "1                                                  2                                                \n",
      "\n",
      "  How often have you felt upset due to something that happened in your academic affairs?  \\\n",
      "0                                         Very often                                       \n",
      "1                                          Sometimes                                       \n",
      "\n",
      "  How often you felt as if you were unable to control important things in your academic affairs?  \\\n",
      "0                                       Fairly often                                               \n",
      "1                                          Sometimes                                               \n",
      "\n",
      "  How often you felt nervous and stressed because of academic pressure?  ...  \\\n",
      "0                                       Fairly often                     ...   \n",
      "1                                         Very often                     ...   \n",
      "\n",
      "  I have stomachaches and/or intestinal problems  \\\n",
      "0                                          Never   \n",
      "1                                          Never   \n",
      "\n",
      "  Have you moved your house in the past 6 month?  \\\n",
      "0                                             No   \n",
      "1                                             No   \n",
      "\n",
      "  Have you had any changes in your lifestyle recently?  \\\n",
      "0                                                Yes     \n",
      "1                                                Yes     \n",
      "\n",
      "  Have you had any financial problems lately?  \\\n",
      "0                                          No   \n",
      "1                                          No   \n",
      "\n",
      "  Have you had any sexual problems lately?  \\\n",
      "0                                       No   \n",
      "1                                       No   \n",
      "\n",
      "  Have any of your fellow people been sick (family member or relative) lately?  \\\n",
      "0                                                 No                             \n",
      "1                                                 No                             \n",
      "\n",
      "  Have you experienced any injury or sickness lately?  \\\n",
      "0                                                Yes    \n",
      "1                                                 No    \n",
      "\n",
      "  Have you been separated from your family/partner?  \\\n",
      "0                                               Yes   \n",
      "1                                               Yes   \n",
      "\n",
      "  Have you experienced a death of a fellow person (close relative, partner, friend)?  \\\n",
      "0                                                Yes                                   \n",
      "1                                                Yes                                   \n",
      "\n",
      "  Overall, how would you describe your stress level?  \n",
      "0                                        High stress  \n",
      "1                                    Moderate stress  \n",
      "\n",
      "[2 rows x 38 columns]\n"
     ]
    }
   ],
   "source": [
    "import gspread\n",
    "from oauth2client.service_account import ServiceAccountCredentials\n",
    "\n",
    "# define the scope and credentials\n",
    "scopes = ['https://www.googleapis.com/auth/spreadsheets.readonly', 'https://www.googleapis.com/auth/drive']\n",
    "creds = ServiceAccountCredentials.from_json_keyfile_name('google-sheets-access/student-stress-457900-e232b54e76fb.json', scopes=scopes)\n",
    "\n",
    "# authorize and open the workbook\n",
    "file = gspread.authorize(creds)\n",
    "workbook = file.open('fontys_student_stress')\n",
    "sheet = workbook.worksheet('stress')\n",
    "\n",
    "# get all records from the sheet and convert to a pandas DataFrame\n",
    "data = sheet.get_all_records()\n",
    "df = pd.DataFrame(data)\n",
    "\n",
    "print(df)"
   ]
  },
  {
   "cell_type": "code",
   "execution_count": 241,
   "id": "f6ae259f",
   "metadata": {},
   "outputs": [
    {
     "data": {
      "application/vnd.microsoft.datawrangler.viewer.v0+json": {
       "columns": [
        {
         "name": "index",
         "rawType": "int64",
         "type": "integer"
        },
        {
         "name": "Позначка часу",
         "rawType": "object",
         "type": "string"
        },
        {
         "name": "How much time do you spend on studying daily? (in hours)",
         "rawType": "float64",
         "type": "float"
        },
        {
         "name": "Would you like to pursue a career based on your profile/specialization?",
         "rawType": "object",
         "type": "string"
        },
        {
         "name": "Do you have a part time job?",
         "rawType": "object",
         "type": "string"
        },
        {
         "name": "How many hours do you usually sleep?",
         "rawType": "int64",
         "type": "integer"
        },
        {
         "name": "How would you describe your diet?",
         "rawType": "object",
         "type": "string"
        },
        {
         "name": "How much time do you spend on physical activities daily (general exercises, any sport counts)?",
         "rawType": "int64",
         "type": "integer"
        },
        {
         "name": "How often have you felt upset due to something that happened in your academic affairs?",
         "rawType": "object",
         "type": "string"
        },
        {
         "name": "How often you felt as if you were unable to control important things in your academic affairs?",
         "rawType": "object",
         "type": "string"
        },
        {
         "name": "How often you felt nervous and stressed because of academic pressure?",
         "rawType": "object",
         "type": "string"
        },
        {
         "name": "How often you felt as if you could not cope with all the mandatory academic activities? (assignments, project requirements, etc.)",
         "rawType": "object",
         "type": "string"
        },
        {
         "name": "How often you felt confident about your ability to handle your academic / university problems?",
         "rawType": "object",
         "type": "string"
        },
        {
         "name": "How often you felt as if things in your academic life is going on your way?",
         "rawType": "object",
         "type": "string"
        },
        {
         "name": "How often are you able to control irritations in your academic / university affairs?",
         "rawType": "object",
         "type": "string"
        },
        {
         "name": "How often you felt as if your academic performance was on top?",
         "rawType": "object",
         "type": "string"
        },
        {
         "name": "How often you got angered due to bad performance or low grades that is beyond your control?",
         "rawType": "object",
         "type": "string"
        },
        {
         "name": "How often you felt as if academic difficulties are piling up so high that you could not overcome them?",
         "rawType": "object",
         "type": "string"
        },
        {
         "name": "I am never completely satisfied with my achievements",
         "rawType": "object",
         "type": "string"
        },
        {
         "name": "I am quickly irritated by other people",
         "rawType": "object",
         "type": "string"
        },
        {
         "name": "The future seems gloomy to me",
         "rawType": "object",
         "type": "string"
        },
        {
         "name": "I quickly become impatient",
         "rawType": "object",
         "type": "string"
        },
        {
         "name": "I smoke too much",
         "rawType": "object",
         "type": "string"
        },
        {
         "name": "I find it hard to think clearly when I am in a difficult situation",
         "rawType": "object",
         "type": "string"
        },
        {
         "name": "I often feel rushed in my work ",
         "rawType": "object",
         "type": "string"
        },
        {
         "name": "I am not sleeping well",
         "rawType": "object",
         "type": "string"
        },
        {
         "name": "I am sensitive to noise",
         "rawType": "object",
         "type": "string"
        },
        {
         "name": "I find criticism difficult and I don't deal with it well",
         "rawType": "object",
         "type": "string"
        },
        {
         "name": "I often have panic attacks ",
         "rawType": "object",
         "type": "string"
        },
        {
         "name": "I have stomachaches and/or intestinal problems",
         "rawType": "object",
         "type": "string"
        },
        {
         "name": "Have you moved your house in the past 6 month?",
         "rawType": "object",
         "type": "string"
        },
        {
         "name": "Have you had any changes in your lifestyle recently?",
         "rawType": "object",
         "type": "string"
        },
        {
         "name": "Have you had any financial problems lately?",
         "rawType": "object",
         "type": "string"
        },
        {
         "name": "Have you had any sexual problems lately?",
         "rawType": "object",
         "type": "string"
        },
        {
         "name": "Have any of your fellow people been sick (family member or relative) lately?",
         "rawType": "object",
         "type": "string"
        },
        {
         "name": "Have you experienced any injury or sickness lately?",
         "rawType": "object",
         "type": "string"
        },
        {
         "name": "Have you been separated from your family/partner?",
         "rawType": "object",
         "type": "string"
        },
        {
         "name": "Have you experienced a death of a fellow person (close relative, partner, friend)?",
         "rawType": "object",
         "type": "string"
        },
        {
         "name": "Overall, how would you describe your stress level?",
         "rawType": "object",
         "type": "string"
        }
       ],
       "conversionMethod": "pd.DataFrame",
       "ref": "66da672c-3407-4631-aaf8-afd365441b42",
       "rows": [
        [
         "0",
         "25.04.2025 03:11:16",
         "2.333333333333333",
         "100%",
         "Yes",
         "6",
         "Average",
         "2",
         "Very often",
         "Fairly often",
         "Fairly often",
         "Fairly often",
         "Sometimes",
         "Sometimes",
         "Sometimes",
         "Almost never",
         "Almost never",
         "Fairly often",
         "Always",
         "Often",
         "Sometimes",
         "Sometimes",
         "Never",
         "Never",
         "Often",
         "Always",
         "Sometimes",
         "Often",
         "Never",
         "Never",
         "No",
         "Yes",
         "No",
         "No",
         "No",
         "Yes",
         "Yes",
         "Yes",
         "High stress"
        ],
        [
         "1",
         "25.04.2025 03:41:40",
         "6.0",
         "100%",
         "Yes",
         "5",
         "Healthy",
         "2",
         "Sometimes",
         "Sometimes",
         "Very often",
         "Sometimes",
         "Fairly often",
         "Fairly often",
         "Fairly often",
         "Fairly often",
         "Sometimes",
         "Very often",
         "Always",
         "Never",
         "Sometimes",
         "Always",
         "Never",
         "Never",
         "Often",
         "Always",
         "Never",
         "Never",
         "Never",
         "Never",
         "No",
         "Yes",
         "No",
         "No",
         "No",
         "No",
         "Yes",
         "Yes",
         "Moderate stress"
        ]
       ],
       "shape": {
        "columns": 38,
        "rows": 2
       }
      },
      "text/html": [
       "<div>\n",
       "<style scoped>\n",
       "    .dataframe tbody tr th:only-of-type {\n",
       "        vertical-align: middle;\n",
       "    }\n",
       "\n",
       "    .dataframe tbody tr th {\n",
       "        vertical-align: top;\n",
       "    }\n",
       "\n",
       "    .dataframe thead th {\n",
       "        text-align: right;\n",
       "    }\n",
       "</style>\n",
       "<table border=\"1\" class=\"dataframe\">\n",
       "  <thead>\n",
       "    <tr style=\"text-align: right;\">\n",
       "      <th></th>\n",
       "      <th>Позначка часу</th>\n",
       "      <th>How much time do you spend on studying daily? (in hours)</th>\n",
       "      <th>Would you like to pursue a career based on your profile/specialization?</th>\n",
       "      <th>Do you have a part time job?</th>\n",
       "      <th>How many hours do you usually sleep?</th>\n",
       "      <th>How would you describe your diet?</th>\n",
       "      <th>How much time do you spend on physical activities daily (general exercises, any sport counts)?</th>\n",
       "      <th>How often have you felt upset due to something that happened in your academic affairs?</th>\n",
       "      <th>How often you felt as if you were unable to control important things in your academic affairs?</th>\n",
       "      <th>How often you felt nervous and stressed because of academic pressure?</th>\n",
       "      <th>...</th>\n",
       "      <th>I have stomachaches and/or intestinal problems</th>\n",
       "      <th>Have you moved your house in the past 6 month?</th>\n",
       "      <th>Have you had any changes in your lifestyle recently?</th>\n",
       "      <th>Have you had any financial problems lately?</th>\n",
       "      <th>Have you had any sexual problems lately?</th>\n",
       "      <th>Have any of your fellow people been sick (family member or relative) lately?</th>\n",
       "      <th>Have you experienced any injury or sickness lately?</th>\n",
       "      <th>Have you been separated from your family/partner?</th>\n",
       "      <th>Have you experienced a death of a fellow person (close relative, partner, friend)?</th>\n",
       "      <th>Overall, how would you describe your stress level?</th>\n",
       "    </tr>\n",
       "  </thead>\n",
       "  <tbody>\n",
       "    <tr>\n",
       "      <th>0</th>\n",
       "      <td>25.04.2025 03:11:16</td>\n",
       "      <td>2.333333</td>\n",
       "      <td>100%</td>\n",
       "      <td>Yes</td>\n",
       "      <td>6</td>\n",
       "      <td>Average</td>\n",
       "      <td>2</td>\n",
       "      <td>Very often</td>\n",
       "      <td>Fairly often</td>\n",
       "      <td>Fairly often</td>\n",
       "      <td>...</td>\n",
       "      <td>Never</td>\n",
       "      <td>No</td>\n",
       "      <td>Yes</td>\n",
       "      <td>No</td>\n",
       "      <td>No</td>\n",
       "      <td>No</td>\n",
       "      <td>Yes</td>\n",
       "      <td>Yes</td>\n",
       "      <td>Yes</td>\n",
       "      <td>High stress</td>\n",
       "    </tr>\n",
       "    <tr>\n",
       "      <th>1</th>\n",
       "      <td>25.04.2025 03:41:40</td>\n",
       "      <td>6.000000</td>\n",
       "      <td>100%</td>\n",
       "      <td>Yes</td>\n",
       "      <td>5</td>\n",
       "      <td>Healthy</td>\n",
       "      <td>2</td>\n",
       "      <td>Sometimes</td>\n",
       "      <td>Sometimes</td>\n",
       "      <td>Very often</td>\n",
       "      <td>...</td>\n",
       "      <td>Never</td>\n",
       "      <td>No</td>\n",
       "      <td>Yes</td>\n",
       "      <td>No</td>\n",
       "      <td>No</td>\n",
       "      <td>No</td>\n",
       "      <td>No</td>\n",
       "      <td>Yes</td>\n",
       "      <td>Yes</td>\n",
       "      <td>Moderate stress</td>\n",
       "    </tr>\n",
       "  </tbody>\n",
       "</table>\n",
       "<p>2 rows × 38 columns</p>\n",
       "</div>"
      ],
      "text/plain": [
       "         Позначка часу  \\\n",
       "0  25.04.2025 03:11:16   \n",
       "1  25.04.2025 03:41:40   \n",
       "\n",
       "   How much time do you spend on studying daily? (in hours)  \\\n",
       "0                                           2.333333          \n",
       "1                                           6.000000          \n",
       "\n",
       "  Would you like to pursue a career based on your profile/specialization?  \\\n",
       "0                                               100%                        \n",
       "1                                               100%                        \n",
       "\n",
       "  Do you have a part time job?  How many hours do you usually sleep?  \\\n",
       "0                          Yes                                     6   \n",
       "1                          Yes                                     5   \n",
       "\n",
       "  How would you describe your diet?  \\\n",
       "0                           Average   \n",
       "1                           Healthy   \n",
       "\n",
       "   How much time do you spend on physical activities daily (general exercises, any sport counts)?  \\\n",
       "0                                                  2                                                \n",
       "1                                                  2                                                \n",
       "\n",
       "  How often have you felt upset due to something that happened in your academic affairs?  \\\n",
       "0                                         Very often                                       \n",
       "1                                          Sometimes                                       \n",
       "\n",
       "  How often you felt as if you were unable to control important things in your academic affairs?  \\\n",
       "0                                       Fairly often                                               \n",
       "1                                          Sometimes                                               \n",
       "\n",
       "  How often you felt nervous and stressed because of academic pressure?  ...  \\\n",
       "0                                       Fairly often                     ...   \n",
       "1                                         Very often                     ...   \n",
       "\n",
       "  I have stomachaches and/or intestinal problems  \\\n",
       "0                                          Never   \n",
       "1                                          Never   \n",
       "\n",
       "  Have you moved your house in the past 6 month?  \\\n",
       "0                                             No   \n",
       "1                                             No   \n",
       "\n",
       "  Have you had any changes in your lifestyle recently?  \\\n",
       "0                                                Yes     \n",
       "1                                                Yes     \n",
       "\n",
       "  Have you had any financial problems lately?  \\\n",
       "0                                          No   \n",
       "1                                          No   \n",
       "\n",
       "  Have you had any sexual problems lately?  \\\n",
       "0                                       No   \n",
       "1                                       No   \n",
       "\n",
       "  Have any of your fellow people been sick (family member or relative) lately?  \\\n",
       "0                                                 No                             \n",
       "1                                                 No                             \n",
       "\n",
       "  Have you experienced any injury or sickness lately?  \\\n",
       "0                                                Yes    \n",
       "1                                                 No    \n",
       "\n",
       "  Have you been separated from your family/partner?  \\\n",
       "0                                               Yes   \n",
       "1                                               Yes   \n",
       "\n",
       "  Have you experienced a death of a fellow person (close relative, partner, friend)?  \\\n",
       "0                                                Yes                                   \n",
       "1                                                Yes                                   \n",
       "\n",
       "  Overall, how would you describe your stress level?  \n",
       "0                                        High stress  \n",
       "1                                    Moderate stress  \n",
       "\n",
       "[2 rows x 38 columns]"
      ]
     },
     "execution_count": 241,
     "metadata": {},
     "output_type": "execute_result"
    }
   ],
   "source": [
    "df.to_csv('survey/fontys-student-stress-survey.csv', index=False)\n",
    "fontys_stress = pd.read_csv('survey/fontys-student-stress-survey.csv')\n",
    "fontys_stress.head()"
   ]
  },
  {
   "cell_type": "markdown",
   "id": "4808d4ae",
   "metadata": {},
   "source": [
    "This isn't a step of data provisioning but I will rename the columns now for better readability of the dataset"
   ]
  },
  {
   "cell_type": "code",
   "execution_count": 242,
   "id": "cf16a5a7",
   "metadata": {},
   "outputs": [
    {
     "data": {
      "application/vnd.microsoft.datawrangler.viewer.v0+json": {
       "columns": [
        {
         "name": "index",
         "rawType": "int64",
         "type": "integer"
        },
        {
         "name": "time-studying",
         "rawType": "float64",
         "type": "float"
        },
        {
         "name": "career_pursue",
         "rawType": "object",
         "type": "string"
        },
        {
         "name": "part_time_job",
         "rawType": "object",
         "type": "string"
        },
        {
         "name": "time-sleep",
         "rawType": "int64",
         "type": "integer"
        },
        {
         "name": "diet",
         "rawType": "object",
         "type": "string"
        },
        {
         "name": "time-physical-activities",
         "rawType": "int64",
         "type": "integer"
        },
        {
         "name": "upset_academic_affairs",
         "rawType": "object",
         "type": "string"
        },
        {
         "name": "unable_control_academic_affairs",
         "rawType": "object",
         "type": "string"
        },
        {
         "name": "nervous_academic_pressure",
         "rawType": "object",
         "type": "string"
        },
        {
         "name": "unable_cope_academic_activities",
         "rawType": "object",
         "type": "string"
        },
        {
         "name": "confident_handle_academic_problems",
         "rawType": "object",
         "type": "string"
        },
        {
         "name": "things_going_on_way",
         "rawType": "object",
         "type": "string"
        },
        {
         "name": "control_irritations_academic_affairs",
         "rawType": "object",
         "type": "string"
        },
        {
         "name": "academic_performance_top",
         "rawType": "object",
         "type": "string"
        },
        {
         "name": "angered_bad_performance",
         "rawType": "object",
         "type": "string"
        },
        {
         "name": "academic_difficulties_piling_up",
         "rawType": "object",
         "type": "string"
        },
        {
         "name": "never_satisfied_achievements",
         "rawType": "object",
         "type": "string"
        },
        {
         "name": "quickly_irritated_people",
         "rawType": "object",
         "type": "string"
        },
        {
         "name": "future_gloomy",
         "rawType": "object",
         "type": "string"
        },
        {
         "name": "quickly_impatient",
         "rawType": "object",
         "type": "string"
        },
        {
         "name": "smoke_too_much",
         "rawType": "object",
         "type": "string"
        },
        {
         "name": "hard_think_clearly",
         "rawType": "object",
         "type": "string"
        },
        {
         "name": "I often feel rushed in my work ",
         "rawType": "object",
         "type": "string"
        },
        {
         "name": "not_sleeping_well",
         "rawType": "object",
         "type": "string"
        },
        {
         "name": "sensitive_noise",
         "rawType": "object",
         "type": "string"
        },
        {
         "name": "find_criticism_difficult",
         "rawType": "object",
         "type": "string"
        },
        {
         "name": "I often have panic attacks ",
         "rawType": "object",
         "type": "string"
        },
        {
         "name": "stomachaches",
         "rawType": "object",
         "type": "string"
        },
        {
         "name": "moved_house",
         "rawType": "object",
         "type": "string"
        },
        {
         "name": "changes_lifestyle",
         "rawType": "object",
         "type": "string"
        },
        {
         "name": "financial_problems",
         "rawType": "object",
         "type": "string"
        },
        {
         "name": "sexual_problems",
         "rawType": "object",
         "type": "string"
        },
        {
         "name": "fellow_people_sick",
         "rawType": "object",
         "type": "string"
        },
        {
         "name": "experienced_injury",
         "rawType": "object",
         "type": "string"
        },
        {
         "name": "separated_family",
         "rawType": "object",
         "type": "string"
        },
        {
         "name": "experienced_death",
         "rawType": "object",
         "type": "string"
        },
        {
         "name": "stress_level",
         "rawType": "object",
         "type": "string"
        }
       ],
       "conversionMethod": "pd.DataFrame",
       "ref": "3c5f7dda-f079-4233-a0ef-efbf0f89325b",
       "rows": [
        [
         "0",
         "2.333333333333333",
         "100%",
         "Yes",
         "6",
         "Average",
         "2",
         "Very often",
         "Fairly often",
         "Fairly often",
         "Fairly often",
         "Sometimes",
         "Sometimes",
         "Sometimes",
         "Almost never",
         "Almost never",
         "Fairly often",
         "Always",
         "Often",
         "Sometimes",
         "Sometimes",
         "Never",
         "Never",
         "Often",
         "Always",
         "Sometimes",
         "Often",
         "Never",
         "Never",
         "No",
         "Yes",
         "No",
         "No",
         "No",
         "Yes",
         "Yes",
         "Yes",
         "High stress"
        ],
        [
         "1",
         "6.0",
         "100%",
         "Yes",
         "5",
         "Healthy",
         "2",
         "Sometimes",
         "Sometimes",
         "Very often",
         "Sometimes",
         "Fairly often",
         "Fairly often",
         "Fairly often",
         "Fairly often",
         "Sometimes",
         "Very often",
         "Always",
         "Never",
         "Sometimes",
         "Always",
         "Never",
         "Never",
         "Often",
         "Always",
         "Never",
         "Never",
         "Never",
         "Never",
         "No",
         "Yes",
         "No",
         "No",
         "No",
         "No",
         "Yes",
         "Yes",
         "Moderate stress"
        ]
       ],
       "shape": {
        "columns": 37,
        "rows": 2
       }
      },
      "text/html": [
       "<div>\n",
       "<style scoped>\n",
       "    .dataframe tbody tr th:only-of-type {\n",
       "        vertical-align: middle;\n",
       "    }\n",
       "\n",
       "    .dataframe tbody tr th {\n",
       "        vertical-align: top;\n",
       "    }\n",
       "\n",
       "    .dataframe thead th {\n",
       "        text-align: right;\n",
       "    }\n",
       "</style>\n",
       "<table border=\"1\" class=\"dataframe\">\n",
       "  <thead>\n",
       "    <tr style=\"text-align: right;\">\n",
       "      <th></th>\n",
       "      <th>time-studying</th>\n",
       "      <th>career_pursue</th>\n",
       "      <th>part_time_job</th>\n",
       "      <th>time-sleep</th>\n",
       "      <th>diet</th>\n",
       "      <th>time-physical-activities</th>\n",
       "      <th>upset_academic_affairs</th>\n",
       "      <th>unable_control_academic_affairs</th>\n",
       "      <th>nervous_academic_pressure</th>\n",
       "      <th>unable_cope_academic_activities</th>\n",
       "      <th>...</th>\n",
       "      <th>stomachaches</th>\n",
       "      <th>moved_house</th>\n",
       "      <th>changes_lifestyle</th>\n",
       "      <th>financial_problems</th>\n",
       "      <th>sexual_problems</th>\n",
       "      <th>fellow_people_sick</th>\n",
       "      <th>experienced_injury</th>\n",
       "      <th>separated_family</th>\n",
       "      <th>experienced_death</th>\n",
       "      <th>stress_level</th>\n",
       "    </tr>\n",
       "  </thead>\n",
       "  <tbody>\n",
       "    <tr>\n",
       "      <th>0</th>\n",
       "      <td>2.333333</td>\n",
       "      <td>100%</td>\n",
       "      <td>Yes</td>\n",
       "      <td>6</td>\n",
       "      <td>Average</td>\n",
       "      <td>2</td>\n",
       "      <td>Very often</td>\n",
       "      <td>Fairly often</td>\n",
       "      <td>Fairly often</td>\n",
       "      <td>Fairly often</td>\n",
       "      <td>...</td>\n",
       "      <td>Never</td>\n",
       "      <td>No</td>\n",
       "      <td>Yes</td>\n",
       "      <td>No</td>\n",
       "      <td>No</td>\n",
       "      <td>No</td>\n",
       "      <td>Yes</td>\n",
       "      <td>Yes</td>\n",
       "      <td>Yes</td>\n",
       "      <td>High stress</td>\n",
       "    </tr>\n",
       "    <tr>\n",
       "      <th>1</th>\n",
       "      <td>6.000000</td>\n",
       "      <td>100%</td>\n",
       "      <td>Yes</td>\n",
       "      <td>5</td>\n",
       "      <td>Healthy</td>\n",
       "      <td>2</td>\n",
       "      <td>Sometimes</td>\n",
       "      <td>Sometimes</td>\n",
       "      <td>Very often</td>\n",
       "      <td>Sometimes</td>\n",
       "      <td>...</td>\n",
       "      <td>Never</td>\n",
       "      <td>No</td>\n",
       "      <td>Yes</td>\n",
       "      <td>No</td>\n",
       "      <td>No</td>\n",
       "      <td>No</td>\n",
       "      <td>No</td>\n",
       "      <td>Yes</td>\n",
       "      <td>Yes</td>\n",
       "      <td>Moderate stress</td>\n",
       "    </tr>\n",
       "  </tbody>\n",
       "</table>\n",
       "<p>2 rows × 37 columns</p>\n",
       "</div>"
      ],
      "text/plain": [
       "   time-studying career_pursue part_time_job  time-sleep     diet  \\\n",
       "0       2.333333          100%           Yes           6  Average   \n",
       "1       6.000000          100%           Yes           5  Healthy   \n",
       "\n",
       "   time-physical-activities upset_academic_affairs  \\\n",
       "0                         2             Very often   \n",
       "1                         2              Sometimes   \n",
       "\n",
       "  unable_control_academic_affairs nervous_academic_pressure  \\\n",
       "0                    Fairly often              Fairly often   \n",
       "1                       Sometimes                Very often   \n",
       "\n",
       "  unable_cope_academic_activities  ... stomachaches moved_house  \\\n",
       "0                    Fairly often  ...        Never          No   \n",
       "1                       Sometimes  ...        Never          No   \n",
       "\n",
       "  changes_lifestyle financial_problems sexual_problems fellow_people_sick  \\\n",
       "0               Yes                 No              No                 No   \n",
       "1               Yes                 No              No                 No   \n",
       "\n",
       "  experienced_injury separated_family experienced_death     stress_level  \n",
       "0                Yes              Yes               Yes      High stress  \n",
       "1                 No              Yes               Yes  Moderate stress  \n",
       "\n",
       "[2 rows x 37 columns]"
      ]
     },
     "execution_count": 242,
     "metadata": {},
     "output_type": "execute_result"
    }
   ],
   "source": [
    "# i have a ukrainian google account, the google form interface is in ukrainian, so the timestamp column is named in ukranian, my bad(\n",
    "fontys_stress.drop(['Позначка часу'], axis=1, inplace=True)\n",
    "\n",
    "# renaming columns\n",
    "fontys_stress.rename(columns={\"How much time do you spend on studying daily? (in hours)\" : \"time-studying\"}, inplace=True)\n",
    "fontys_stress.rename(columns={\"How much time do you spend on studying daily? (in hours)\" : \"time-studying\"}, inplace=True)\n",
    "fontys_stress.rename(columns={\"Would you like to pursue a career based on your profile/specialization?\" : \"career_pursue\"}, inplace=True)\n",
    "fontys_stress.rename(columns={\"Do you have a part time job?\" : \"part_time_job\"}, inplace=True)\n",
    "fontys_stress.rename(columns={\"How many hours do you usually sleep?\" : \"time-sleep\"}, inplace=True)\n",
    "fontys_stress.rename(columns={\"How would you describe your diet?\" : \"diet\"}, inplace=True)\n",
    "fontys_stress.rename(columns={\"How much time do you spend on physical activities daily (general exercises, any sport counts)?\" : \"time-physical-activities\"}, inplace=True)\n",
    "fontys_stress.rename(columns={\"How often have you felt upset due to something that happened in your academic affairs?\" : \"upset_academic_affairs\"}, inplace=True)\n",
    "fontys_stress.rename(columns={\"How often you felt as if you were unable to control important things in your academic affairs?\" : \"unable_control_academic_affairs\"}, inplace=True)\n",
    "fontys_stress.rename(columns={\"How often you felt nervous and stressed because of academic pressure?\" : \"nervous_academic_pressure\"}, inplace=True)\n",
    "fontys_stress.rename(columns={\"How often you felt as if you could not cope with all the mandatory academic activities? (assignments, project requirements, etc.)\" : \"unable_cope_academic_activities\"}, inplace=True)\n",
    "fontys_stress.rename(columns={\"How often you felt confident about your ability to handle your academic / university problems?\" : \"confident_handle_academic_problems\"}, inplace=True)\n",
    "fontys_stress.rename(columns={\"How often you felt as if things in your academic life is going on your way?\" : \"things_going_on_way\"}, inplace=True)\n",
    "fontys_stress.rename(columns={\"How often are you able to control irritations in your academic / university affairs?\" : \"control_irritations_academic_affairs\"}, inplace=True)\n",
    "fontys_stress.rename(columns={\"How often you felt as if your academic performance was on top?\" : \"academic_performance_top\"}, inplace=True)\n",
    "fontys_stress.rename(columns={\"How often you got angered due to bad performance or low grades that is beyond your control?\" : \"angered_bad_performance\"}, inplace=True)\n",
    "fontys_stress.rename(columns={\"How often you felt as if academic difficulties are piling up so high that you could not overcome them?\" : \"academic_difficulties_piling_up\"}, inplace=True)\n",
    "fontys_stress.rename(columns={\"I am never completely satisfied with my achievements\" : \"never_satisfied_achievements\"}, inplace=True)\n",
    "fontys_stress.rename(columns={\"I am quickly irritated by other people\" : \"quickly_irritated_people\"}, inplace=True)\n",
    "fontys_stress.rename(columns={\"The future seems gloomy to me\" : \"future_gloomy\"}, inplace=True)\n",
    "fontys_stress.rename(columns={\"I quickly become impatient\" : \"quickly_impatient\"}, inplace=True)\n",
    "fontys_stress.rename(columns={\"I smoke too much\" : \"smoke_too_much\"}, inplace=True)\n",
    "fontys_stress.rename(columns={\"I find it hard to think clearly when I am in a difficult situation\" : \"hard_think_clearly\"}, inplace=True)\n",
    "fontys_stress.rename(columns={\"I often feel rushed in my work\" : \"often_rushed_work\"}, inplace=True)\n",
    "fontys_stress.rename(columns={\"I am not sleeping well\" : \"not_sleeping_well\"}, inplace=True)\n",
    "fontys_stress.rename(columns={\"I am sensitive to noise\" : \"sensitive_noise\"}, inplace=True)\n",
    "fontys_stress.rename(columns={\"I find criticism difficult and I don't deal with it well\" : \"find_criticism_difficult\"}, inplace=True)\n",
    "fontys_stress.rename(columns={\"I often have panic attacks\" : \"panic_attacks\"}, inplace=True)\n",
    "fontys_stress.rename(columns={\"I have stomachaches and/or intestinal problems\" : \"stomachaches\"}, inplace=True)\n",
    "fontys_stress.rename(columns={\"Have you moved your house in the past 6 month?\" : \"moved_house\"}, inplace=True)\n",
    "fontys_stress.rename(columns={\"Have you had any changes in your lifestyle recently?\" : \"changes_lifestyle\"}, inplace=True)\n",
    "fontys_stress.rename(columns={\"Have you had any financial problems lately?\" : \"financial_problems\"}, inplace=True)\n",
    "fontys_stress.rename(columns={\"Have you had any sexual problems lately?\" : \"sexual_problems\"}, inplace=True)\n",
    "fontys_stress.rename(columns={\"Have any of your fellow people been sick (family member or relative) lately?\" : \"fellow_people_sick\"}, inplace=True)\n",
    "fontys_stress.rename(columns={\"Have you experienced any injury or sickness lately?\" : \"experienced_injury\"}, inplace=True)\n",
    "fontys_stress.rename(columns={\"Have you been separated from your family/partner?\" : \"separated_family\"}, inplace=True)\n",
    "fontys_stress.rename(columns={\"Have you experienced a death of a fellow person (close relative, partner, friend)?\" : \"experienced_death\"}, inplace=True)\n",
    "fontys_stress.rename(columns={\"Overall, how would you describe your stress level?\" : \"stress_level\"}, inplace=True)\n",
    "\n",
    "fontys_stress.head(5)\n"
   ]
  },
  {
   "cell_type": "code",
   "execution_count": 243,
   "id": "2c4dafdb",
   "metadata": {},
   "outputs": [],
   "source": [
    "fontys_stress.to_csv('survey/fontys-student-stress-survey.csv', index=False)"
   ]
  },
  {
   "cell_type": "code",
   "execution_count": 244,
   "id": "0719d02a",
   "metadata": {},
   "outputs": [
    {
     "name": "stdout",
     "output_type": "stream",
     "text": [
      "<class 'pandas.core.frame.DataFrame'>\n",
      "RangeIndex: 2 entries, 0 to 1\n",
      "Data columns (total 37 columns):\n",
      " #   Column                                Non-Null Count  Dtype  \n",
      "---  ------                                --------------  -----  \n",
      " 0   time-studying                         2 non-null      float64\n",
      " 1   career_pursue                         2 non-null      object \n",
      " 2   part_time_job                         2 non-null      object \n",
      " 3   time-sleep                            2 non-null      int64  \n",
      " 4   diet                                  2 non-null      object \n",
      " 5   time-physical-activities              2 non-null      int64  \n",
      " 6   upset_academic_affairs                2 non-null      object \n",
      " 7   unable_control_academic_affairs       2 non-null      object \n",
      " 8   nervous_academic_pressure             2 non-null      object \n",
      " 9   unable_cope_academic_activities       2 non-null      object \n",
      " 10  confident_handle_academic_problems    2 non-null      object \n",
      " 11  things_going_on_way                   2 non-null      object \n",
      " 12  control_irritations_academic_affairs  2 non-null      object \n",
      " 13  academic_performance_top              2 non-null      object \n",
      " 14  angered_bad_performance               2 non-null      object \n",
      " 15  academic_difficulties_piling_up       2 non-null      object \n",
      " 16  never_satisfied_achievements          2 non-null      object \n",
      " 17  quickly_irritated_people              2 non-null      object \n",
      " 18  future_gloomy                         2 non-null      object \n",
      " 19  quickly_impatient                     2 non-null      object \n",
      " 20  smoke_too_much                        2 non-null      object \n",
      " 21  hard_think_clearly                    2 non-null      object \n",
      " 22  I often feel rushed in my work        2 non-null      object \n",
      " 23  not_sleeping_well                     2 non-null      object \n",
      " 24  sensitive_noise                       2 non-null      object \n",
      " 25  find_criticism_difficult              2 non-null      object \n",
      " 26  I often have panic attacks            2 non-null      object \n",
      " 27  stomachaches                          2 non-null      object \n",
      " 28  moved_house                           2 non-null      object \n",
      " 29  changes_lifestyle                     2 non-null      object \n",
      " 30  financial_problems                    2 non-null      object \n",
      " 31  sexual_problems                       2 non-null      object \n",
      " 32  fellow_people_sick                    2 non-null      object \n",
      " 33  experienced_injury                    2 non-null      object \n",
      " 34  separated_family                      2 non-null      object \n",
      " 35  experienced_death                     2 non-null      object \n",
      " 36  stress_level                          2 non-null      object \n",
      "dtypes: float64(1), int64(2), object(34)\n",
      "memory usage: 724.0+ bytes\n"
     ]
    }
   ],
   "source": [
    "fontys_stress.info()"
   ]
  },
  {
   "cell_type": "code",
   "execution_count": 245,
   "id": "dfafadaf",
   "metadata": {},
   "outputs": [
    {
     "data": {
      "application/vnd.microsoft.datawrangler.viewer.v0+json": {
       "columns": [
        {
         "name": "index",
         "rawType": "object",
         "type": "string"
        },
        {
         "name": "time-studying",
         "rawType": "float64",
         "type": "float"
        },
        {
         "name": "time-sleep",
         "rawType": "float64",
         "type": "float"
        },
        {
         "name": "time-physical-activities",
         "rawType": "float64",
         "type": "float"
        }
       ],
       "conversionMethod": "pd.DataFrame",
       "ref": "40d17e6e-1b70-4fea-ad02-a8a6fa5514b0",
       "rows": [
        [
         "count",
         "2.0",
         "2.0",
         "2.0"
        ],
        [
         "mean",
         "4.166666666666666",
         "5.5",
         "2.0"
        ],
        [
         "std",
         "2.5927248643506746",
         "0.7071067811865476",
         "0.0"
        ],
        [
         "min",
         "2.333333333333333",
         "5.0",
         "2.0"
        ],
        [
         "25%",
         "3.25",
         "5.25",
         "2.0"
        ],
        [
         "50%",
         "4.166666666666666",
         "5.5",
         "2.0"
        ],
        [
         "75%",
         "5.083333333333333",
         "5.75",
         "2.0"
        ],
        [
         "max",
         "6.0",
         "6.0",
         "2.0"
        ]
       ],
       "shape": {
        "columns": 3,
        "rows": 8
       }
      },
      "text/html": [
       "<div>\n",
       "<style scoped>\n",
       "    .dataframe tbody tr th:only-of-type {\n",
       "        vertical-align: middle;\n",
       "    }\n",
       "\n",
       "    .dataframe tbody tr th {\n",
       "        vertical-align: top;\n",
       "    }\n",
       "\n",
       "    .dataframe thead th {\n",
       "        text-align: right;\n",
       "    }\n",
       "</style>\n",
       "<table border=\"1\" class=\"dataframe\">\n",
       "  <thead>\n",
       "    <tr style=\"text-align: right;\">\n",
       "      <th></th>\n",
       "      <th>time-studying</th>\n",
       "      <th>time-sleep</th>\n",
       "      <th>time-physical-activities</th>\n",
       "    </tr>\n",
       "  </thead>\n",
       "  <tbody>\n",
       "    <tr>\n",
       "      <th>count</th>\n",
       "      <td>2.000000</td>\n",
       "      <td>2.000000</td>\n",
       "      <td>2.0</td>\n",
       "    </tr>\n",
       "    <tr>\n",
       "      <th>mean</th>\n",
       "      <td>4.166667</td>\n",
       "      <td>5.500000</td>\n",
       "      <td>2.0</td>\n",
       "    </tr>\n",
       "    <tr>\n",
       "      <th>std</th>\n",
       "      <td>2.592725</td>\n",
       "      <td>0.707107</td>\n",
       "      <td>0.0</td>\n",
       "    </tr>\n",
       "    <tr>\n",
       "      <th>min</th>\n",
       "      <td>2.333333</td>\n",
       "      <td>5.000000</td>\n",
       "      <td>2.0</td>\n",
       "    </tr>\n",
       "    <tr>\n",
       "      <th>25%</th>\n",
       "      <td>3.250000</td>\n",
       "      <td>5.250000</td>\n",
       "      <td>2.0</td>\n",
       "    </tr>\n",
       "    <tr>\n",
       "      <th>50%</th>\n",
       "      <td>4.166667</td>\n",
       "      <td>5.500000</td>\n",
       "      <td>2.0</td>\n",
       "    </tr>\n",
       "    <tr>\n",
       "      <th>75%</th>\n",
       "      <td>5.083333</td>\n",
       "      <td>5.750000</td>\n",
       "      <td>2.0</td>\n",
       "    </tr>\n",
       "    <tr>\n",
       "      <th>max</th>\n",
       "      <td>6.000000</td>\n",
       "      <td>6.000000</td>\n",
       "      <td>2.0</td>\n",
       "    </tr>\n",
       "  </tbody>\n",
       "</table>\n",
       "</div>"
      ],
      "text/plain": [
       "       time-studying  time-sleep  time-physical-activities\n",
       "count       2.000000    2.000000                       2.0\n",
       "mean        4.166667    5.500000                       2.0\n",
       "std         2.592725    0.707107                       0.0\n",
       "min         2.333333    5.000000                       2.0\n",
       "25%         3.250000    5.250000                       2.0\n",
       "50%         4.166667    5.500000                       2.0\n",
       "75%         5.083333    5.750000                       2.0\n",
       "max         6.000000    6.000000                       2.0"
      ]
     },
     "execution_count": 245,
     "metadata": {},
     "output_type": "execute_result"
    }
   ],
   "source": [
    "fontys_stress.describe()"
   ]
  },
  {
   "cell_type": "code",
   "execution_count": 246,
   "id": "79b86383",
   "metadata": {},
   "outputs": [
    {
     "name": "stdout",
     "output_type": "stream",
     "text": [
      "stress_level\n",
      "High stress        1\n",
      "Moderate stress    1\n",
      "Name: count, dtype: int64\n"
     ]
    },
    {
     "data": {
      "text/plain": [
       "<Axes: xlabel='stress_level'>"
      ]
     },
     "execution_count": 246,
     "metadata": {},
     "output_type": "execute_result"
    },
    {
     "data": {
      "image/png": "[encoded data removed]",
      "text/plain": [
       "<Figure size 640x480 with 1 Axes>"
      ]
     },
     "metadata": {},
     "output_type": "display_data"
    }
   ],
   "source": [
    "print(fontys_stress['stress_level'].value_counts())\n",
    "fontys_stress['stress_level'].value_counts().plot(kind='bar')"
   ]
  }
 ],
 "metadata": {
  "kernelspec": {
   "display_name": "Python 3",
   "language": "python",
   "name": "python3"
  },
  "language_info": {
   "codemirror_mode": {
    "name": "ipython",
    "version": 3
   },
   "file_extension": ".py",
   "mimetype": "text/x-python",
   "name": "python",
   "nbconvert_exporter": "python",
   "pygments_lexer": "ipython3",
   "version": "3.13.2"
  }
 },
 "nbformat": 4,
 "nbformat_minor": 5
}
